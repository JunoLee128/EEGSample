{
 "cells": [
  {
   "cell_type": "code",
   "execution_count": 3,
   "id": "f39c0f8e",
   "metadata": {},
   "outputs": [],
   "source": [
    "from sklearn.model_selection import train_test_split\n",
    "from sklearn.ensemble import *\n",
    "from sklearn import metrics\n",
    "from pymatreader import read_mat\n",
    "import numpy as np\n",
    "import json\n",
    "import os"
   ]
  },
  {
   "cell_type": "code",
   "execution_count": 35,
   "id": "5053d9d3",
   "metadata": {},
   "outputs": [
    {
     "name": "stdout",
     "output_type": "stream",
     "text": [
      "loading 15576668519182930000.json\n",
      "loading 17957179669740114000.json\n",
      "loading 20199147052280082000.json\n",
      "loading 20720091866675330000.json\n",
      "loading 30329014825927670000.json\n",
      "loading 31908791274438530000.json\n",
      "loading 33881536642638900000.json\n",
      "loading 37476885619405180000.json\n",
      "loading 40263762851668330000.json\n",
      "loading 51647007780956774000.json\n",
      "loading 65578173022607020000.json\n",
      "loading 70773977546393580000.json\n",
      "loading 70949146837861695000.json\n",
      "loading 71762937516704770000.json\n",
      "loading 74708274640981460000.json\n",
      "loading 80012270501270370000.json\n",
      "loading 92471859140639980000.json\n",
      "loading 9257898488.json\n",
      "loading 9283782737282763.json\n"
     ]
    }
   ],
   "source": [
    "cwd = os.getcwd()\n",
    "jsonfiledir = os.path.join(cwd, 'EEGData')\n",
    "jsonfiles = []\n",
    "\n",
    "\n",
    "for file in os.listdir(jsonfiledir): #only json files in directory\n",
    "    print('loading', file)\n",
    "    filepth = os.path.join(jsonfiledir, file)\n",
    "    f = open(filepth)\n",
    "    data = json.load(f)\n",
    "    data['sessionID'] = file\n",
    "    jsonfiles.append(data)\n",
    "    f.close()"
   ]
  },
  {
   "cell_type": "code",
   "execution_count": 36,
   "id": "7e4cf8db",
   "metadata": {},
   "outputs": [
    {
     "name": "stdout",
     "output_type": "stream",
     "text": [
      "15576668519182930000.json\n",
      "123900\n",
      "17957179669740114000.json\n",
      "158496\n",
      "20199147052280082000.json\n",
      "139325\n",
      "20720091866675330000.json\n",
      "139600\n",
      "30329014825927670000.json\n",
      "139825\n",
      "31908791274438530000.json\n",
      "159248\n",
      "33881536642638900000.json\n",
      "139775\n",
      "37476885619405180000.json\n",
      "139664\n",
      "40263762851668330000.json\n",
      "120016\n",
      "51647007780956774000.json\n",
      "90112\n",
      "65578173022607020000.json\n",
      "48768\n",
      "70773977546393580000.json\n",
      "138975\n",
      "70949146837861695000.json\n",
      "131904\n",
      "71762937516704770000.json\n",
      "139200\n",
      "74708274640981460000.json\n",
      "139950\n",
      "80012270501270370000.json\n",
      "139950\n",
      "92471859140639980000.json\n",
      "139250\n",
      "9257898488.json\n",
      "139375\n",
      "9283782737282763.json\n",
      "139275\n"
     ]
    }
   ],
   "source": [
    "for d in jsonfiles:\n",
    "    print(d['sessionID'])\n",
    "    print(len( d['channel1'] ))"
   ]
  },
  {
   "cell_type": "code",
   "execution_count": 52,
   "id": "22ed828e",
   "metadata": {},
   "outputs": [],
   "source": [
    "for d in jsonfiles:\n",
    "    chandata = np.array((d['channel1'], \\\n",
    "                        d['channel2'], \\\n",
    "                        d['channel3'], \\\n",
    "                        d['channel4'], \\\n",
    "                        d['channel5'], \\\n",
    "                        d['channel6'], \\\n",
    "                        d['channel7'], \\\n",
    "                        d['channel8']))\n",
    "    d['chandata'] = chandata\n",
    "    d['chanavg'] = np.mean(chandata, axis=0)"
   ]
  },
  {
   "cell_type": "code",
   "execution_count": 67,
   "id": "14b3f840",
   "metadata": {},
   "outputs": [
    {
     "data": {
      "text/plain": [
       "(4.9846085790527646, -3.6827051198582392, 4.127897949370622)"
      ]
     },
     "execution_count": 67,
     "metadata": {},
     "output_type": "execute_result"
    }
   ],
   "source": [
    "jsonfiles[0]['chandata'].shape #chan x time\n",
    "_t = jsonfiles[0]['chanavg']\n",
    "len(_t)\n",
    "_t[0], _t[123900 // 2], _t[-1]"
   ]
  },
  {
   "cell_type": "code",
   "execution_count": 55,
   "id": "07095078",
   "metadata": {},
   "outputs": [],
   "source": [
    "NUM_POINTS = 120000\n",
    "for d in jsonfiles:\n",
    "    #interpolate to 120,000 points\n",
    "    #d['chanavg']\n",
    "    eeglen = len(d['chanavg'])\n",
    "    x = [i * eeglen / NUM_POINTS for i in range(NUM_POINTS)] #x-coordinates to evaluate interp. values\n",
    "    d['chanavginterp'] = np.interp(x, range(eeglen), d['chanavg'])"
   ]
  },
  {
   "cell_type": "code",
   "execution_count": 68,
   "id": "09e82634",
   "metadata": {},
   "outputs": [
    {
     "name": "stdout",
     "output_type": "stream",
     "text": [
      "123900\n"
     ]
    },
    {
     "data": {
      "text/plain": [
       "(4.9846085790527646, -3.6827051198582392, 4.146616506650101)"
      ]
     },
     "execution_count": 68,
     "metadata": {},
     "output_type": "execute_result"
    }
   ],
   "source": [
    "jsonfiles[0]['chanavginterp'].shape\n",
    "_t = jsonfiles[0]['chanavginterp']\n",
    "print(_e)\n",
    "_t[0], _t[120000 // 2], _t[-1]"
   ]
  },
  {
   "cell_type": "code",
   "execution_count": 78,
   "id": "3f8761e9",
   "metadata": {},
   "outputs": [],
   "source": [
    "S = 10 #10 songs\n",
    "for d in jsonfiles:\n",
    "    d['datasplit'] = []\n",
    "    for i in range(S):\n",
    "        s, e = i * NUM_POINTS // S, (i+1) * NUM_POINTS // S\n",
    "        d['datasplit'].append(d['chanavginterp'][s:e])"
   ]
  },
  {
   "cell_type": "code",
   "execution_count": 89,
   "id": "a5bed081",
   "metadata": {},
   "outputs": [
    {
     "name": "stdout",
     "output_type": "stream",
     "text": [
      "5.360310920501755\n",
      "1.3892096040944408\n",
      "-0.42941794673878064\n",
      "-0.7861500054014877\n"
     ]
    }
   ],
   "source": [
    "_t = jsonfiles[0]['datasplit']\n",
    "print( _t[0][-2] )\n",
    "print( _t[0][-1] )\n",
    "print( _t[1][0] )\n",
    "print( _t[1][1] )"
   ]
  },
  {
   "cell_type": "code",
   "execution_count": 90,
   "id": "6435904c",
   "metadata": {},
   "outputs": [],
   "source": [
    "#P = 19\n",
    "#data = np.zeros(shape=(S*P, NUM_POINTS // S)) # S*P x NUM_POINTS = 10*19 x 120,000\n",
    "#ratings = np.zeros(S*P)"
   ]
  },
  {
   "cell_type": "code",
   "execution_count": 93,
   "id": "19bb0e4c",
   "metadata": {},
   "outputs": [],
   "source": [
    "#ind = 0\n",
    "#for i in range(P):\n",
    "#    for j in range(S):\n",
    "#        data[ind] = jsonfiles[i]['datasplit'][j]\n",
    "#        ind += 1"
   ]
  },
  {
   "cell_type": "code",
   "execution_count": 148,
   "id": "66c491ca",
   "metadata": {},
   "outputs": [],
   "source": [
    "def getID(id):\n",
    "    for entry in jsonfiles:\n",
    "        if entry['sessionID'] == id:\n",
    "            return entry\n",
    "    return None"
   ]
  },
  {
   "cell_type": "code",
   "execution_count": 149,
   "id": "7582afb5",
   "metadata": {},
   "outputs": [
    {
     "name": "stdout",
     "output_type": "stream",
     "text": [
      "33881536642638900000.json\n",
      "True\n",
      "80012270501270370000.json\n",
      "True\n",
      "74046263142686880000.json\n",
      "False\n",
      "15576668519182930000.json\n",
      "True\n",
      "17957179669740114000.json\n",
      "True\n",
      "74708274640981460000.json\n",
      "True\n",
      "30329014825927670000.json\n",
      "True\n",
      "37476885619405180000.json\n",
      "True\n",
      "70949146837861695000.json\n",
      "True\n",
      "19162543256201593000.json\n",
      "False\n",
      "92471859140639980000.json\n",
      "True\n",
      "40263762851668330000.json\n",
      "True\n",
      "71677240630889220000.json\n",
      "False\n",
      "31908791274438530000.json\n",
      "True\n",
      "51647007780956774000.json\n",
      "True\n",
      "40519162213428250000.json\n",
      "False\n",
      "65578173022607020000.json\n",
      "True\n",
      "15576668519182930000.json\n",
      "True\n",
      "20199147052280082000.json\n",
      "True\n",
      "44576528811972540000.json\n",
      "False\n",
      "26444285876842930000.json\n",
      "False\n"
     ]
    }
   ],
   "source": [
    "import csv\n",
    "csvfile = os.path.join(cwd, 'UserSessionData.csv')\n",
    "with open(csvfile, 'r', encoding='utf-8') as csv_file:\n",
    "    csv_reader = csv.reader(csv_file, delimiter=',')\n",
    "    line_count = 0\n",
    "    for row in csv_reader:\n",
    "        if line_count > 0:\n",
    "            title = row[0]\n",
    "            ratings = eval(row[4])\n",
    "            for i, rating in enumerate(ratings):\n",
    "                ratings[i] = int(rating)\n",
    "            #print(ratings)\n",
    "            titlejson = title + '.json'\n",
    "            print(titlejson)\n",
    "            print(idExists(titlejson))\n",
    "            id = getID(titlejson)\n",
    "            if id:\n",
    "                id['ratings'] = ratings\n",
    "        line_count += 1"
   ]
  },
  {
   "cell_type": "code",
   "execution_count": 154,
   "id": "68da3ea8",
   "metadata": {},
   "outputs": [],
   "source": [
    "jftrim = []\n",
    "for x in jsonfiles:\n",
    "    if 'ratings' in x.keys():\n",
    "        jftrim.append(x)"
   ]
  },
  {
   "cell_type": "code",
   "execution_count": 156,
   "id": "8db7e6ab",
   "metadata": {},
   "outputs": [
    {
     "data": {
      "text/plain": [
       "14"
      ]
     },
     "execution_count": 156,
     "metadata": {},
     "output_type": "execute_result"
    }
   ],
   "source": [
    "len(jftrim)"
   ]
  },
  {
   "cell_type": "code",
   "execution_count": 157,
   "id": "d6ae81c4",
   "metadata": {},
   "outputs": [],
   "source": [
    "S = 10\n",
    "P = 14\n",
    "NUM_POINTS = 120000\n",
    "data = np.zeros(shape=(S*P, NUM_POINTS // S)) # S*P x NUM_POINTS = 10*19 x 120,000\n",
    "ratings = np.zeros(S*P)"
   ]
  },
  {
   "cell_type": "code",
   "execution_count": 160,
   "id": "2f00505c",
   "metadata": {},
   "outputs": [],
   "source": [
    "ind = 0\n",
    "for i in range(P):\n",
    "    for j in range(S):\n",
    "        data[ind] = jftrim[i]['datasplit'][j]\n",
    "        ind += 1"
   ]
  },
  {
   "cell_type": "code",
   "execution_count": 164,
   "id": "80d30f9b",
   "metadata": {},
   "outputs": [
    {
     "name": "stdout",
     "output_type": "stream",
     "text": [
      "15576668519182930000.json\n",
      "[2, 2, 2, 2, 2, 2, 2, 2, 2, 2]\n",
      "17957179669740114000.json\n",
      "[2, 3, 3, 2, 1, 3, 2, 3, 2, 2]\n",
      "20199147052280082000.json\n",
      "[2, 2, 1, 2, 2, 2, 2, 2, 2, 2]\n",
      "30329014825927670000.json\n",
      "[3, 1, 1, 2, 2, 2, 2, 3, 1, 4]\n",
      "31908791274438530000.json\n",
      "[2, 3, 4, 2, 4, 2, 1, 1, 3, 4]\n",
      "33881536642638900000.json\n",
      "[4, 2, 2, 2, 2, 2, 2, 3, 4, 4]\n",
      "37476885619405180000.json\n",
      "[4, 3, 4, 2, 3, 4, 1, 3, 4, 1]\n",
      "40263762851668330000.json\n",
      "[3, 4, 2, 3, 2, 1, 2, 2, 3, 1]\n",
      "51647007780956774000.json\n",
      "[3, 4, 2, 2, 2, 2, 2, 3, 4, 1]\n",
      "65578173022607020000.json\n",
      "[3, 4, 3, 4, 4, 2, 2, 2, 2, 2]\n",
      "70949146837861695000.json\n",
      "[3, 3, 1, 4, 1, 3, 3, 4, 4, 4]\n",
      "74708274640981460000.json\n",
      "[2, 2, 2, 2, 2, 2, 2, 2, 3, 2]\n",
      "80012270501270370000.json\n",
      "[2, 4, 4, 2, 2, 1, 1, 2, 4, 3]\n",
      "92471859140639980000.json\n",
      "[2, 2, 2, 2, 2, 2, 2, 2, 2, 4]\n",
      "[2. 2. 2. 2. 2. 2. 2. 2. 2. 2. 2. 3. 3. 2. 1. 3. 2. 3. 2. 2. 2. 2. 1. 2.\n",
      " 2. 2. 2. 2. 2. 2. 3. 1. 1. 2. 2. 2. 2. 3. 1. 4. 2. 3. 4. 2. 4. 2. 1. 1.\n",
      " 3. 4. 4. 2. 2. 2. 2. 2. 2. 3. 4. 4. 4. 3. 4. 2. 3. 4. 1. 3. 4. 1. 3. 4.\n",
      " 2. 3. 2. 1. 2. 2. 3. 1. 3. 4. 2. 2. 2. 2. 2. 3. 4. 1. 3. 4. 3. 4. 4. 2.\n",
      " 2. 2. 2. 2. 3. 3. 1. 4. 1. 3. 3. 4. 4. 4. 2. 2. 2. 2. 2. 2. 2. 2. 3. 2.\n",
      " 2. 4. 4. 2. 2. 1. 1. 2. 4. 3. 2. 2. 2. 2. 2. 2. 2. 2. 2. 4.]\n"
     ]
    }
   ],
   "source": [
    "ind = 0\n",
    "for i in range(P):\n",
    "    print(jftrim[i]['sessionID'])\n",
    "    rt = jftrim[i]['ratings']\n",
    "    print(rt)\n",
    "    assert(len(rt) == 10)\n",
    "    for j in range(S):\n",
    "        ratings[ind] = rt[j]\n",
    "        ind += 1\n",
    "print(ratings)"
   ]
  },
  {
   "cell_type": "code",
   "execution_count": 165,
   "id": "9fe69f1a",
   "metadata": {},
   "outputs": [
    {
     "name": "stdout",
     "output_type": "stream",
     "text": [
      "0.9702780000000001\n"
     ]
    }
   ],
   "source": [
    "clf = RandomForestRegressor()\n",
    "x_train, x_test, y_train, y_test = \\\n",
    "    train_test_split(data, ratings, test_size = 0.70, random_state = 5)\n",
    "clf.fit(x_train, y_train)\n",
    "y_pred_test = clf.predict(x_test)\n",
    "diffs = []\n",
    "for i in range(50):\n",
    "    diffs.append( y_pred_test[i] - y_test[i] )\n",
    "print(np.mean([x**2 for x in diffs]))"
   ]
  },
  {
   "cell_type": "code",
   "execution_count": null,
   "id": "711f6b9a",
   "metadata": {},
   "outputs": [],
   "source": []
  }
 ],
 "metadata": {
  "kernelspec": {
   "display_name": "Python 3 (ipykernel)",
   "language": "python",
   "name": "python3"
  },
  "language_info": {
   "codemirror_mode": {
    "name": "ipython",
    "version": 3
   },
   "file_extension": ".py",
   "mimetype": "text/x-python",
   "name": "python",
   "nbconvert_exporter": "python",
   "pygments_lexer": "ipython3",
   "version": "3.9.12"
  }
 },
 "nbformat": 4,
 "nbformat_minor": 5
}
