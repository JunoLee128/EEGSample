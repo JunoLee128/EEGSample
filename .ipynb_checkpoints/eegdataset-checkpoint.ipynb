{
 "cells": [
  {
   "cell_type": "code",
   "execution_count": 2,
   "id": "a2e469d1",
   "metadata": {},
   "outputs": [
    {
     "name": "stdout",
     "output_type": "stream",
     "text": [
      "Collecting pymatreader\n",
      "  Using cached pymatreader-0.0.30-py3-none-any.whl (9.0 kB)\n",
      "Requirement already satisfied: scipy!=1.7.0 in c:\\users\\junom\\anaconda3\\lib\\site-packages (from pymatreader) (1.7.1)\n",
      "Requirement already satisfied: xmltodict in c:\\users\\junom\\anaconda3\\lib\\site-packages (from pymatreader) (0.12.0)\n",
      "Requirement already satisfied: future in c:\\users\\junom\\anaconda3\\lib\\site-packages (from pymatreader) (0.18.2)\n",
      "Requirement already satisfied: numpy in c:\\users\\junom\\anaconda3\\lib\\site-packages (from pymatreader) (1.20.2)\n",
      "Requirement already satisfied: h5py in c:\\users\\junom\\anaconda3\\lib\\site-packages (from pymatreader) (3.2.1)\n",
      "Installing collected packages: pymatreader\n",
      "Successfully installed pymatreader-0.0.30\n"
     ]
    },
    {
     "name": "stderr",
     "output_type": "stream",
     "text": [
      "WARNING: Ignoring invalid distribution -atplotlib (c:\\users\\junom\\anaconda3\\lib\\site-packages)\n",
      "WARNING: Ignoring invalid distribution -atplotlib (c:\\users\\junom\\anaconda3\\lib\\site-packages)\n",
      "WARNING: Ignoring invalid distribution -atplotlib (c:\\users\\junom\\anaconda3\\lib\\site-packages)\n",
      "WARNING: Ignoring invalid distribution -atplotlib (c:\\users\\junom\\anaconda3\\lib\\site-packages)\n",
      "WARNING: Ignoring invalid distribution -atplotlib (c:\\users\\junom\\anaconda3\\lib\\site-packages)\n",
      "WARNING: Ignoring invalid distribution -atplotlib (c:\\users\\junom\\anaconda3\\lib\\site-packages)\n",
      "WARNING: Ignoring invalid distribution -atplotlib (c:\\users\\junom\\anaconda3\\lib\\site-packages)\n"
     ]
    }
   ],
   "source": [
    "!pip install pymatreader"
   ]
  },
  {
   "cell_type": "code",
   "execution_count": 61,
   "id": "27a9a6a0",
   "metadata": {},
   "outputs": [],
   "source": [
    "from sklearn.model_selection import train_test_split\n",
    "from sklearn.ensemble import *\n",
    "from sklearn import metrics\n",
    "from pymatreader import read_mat\n",
    "import numpy as np"
   ]
  },
  {
   "cell_type": "code",
   "execution_count": 4,
   "id": "b69a280e",
   "metadata": {},
   "outputs": [],
   "source": [
    "data = []\n",
    "for i in range(10): # channel x T x participant\n",
    "    data.append( read_mat('song{}_Imputed.mat'.format(i + 21))['data{}'.format(i + 21)] )"
   ]
  },
  {
   "cell_type": "code",
   "execution_count": 6,
   "id": "cecdea36",
   "metadata": {},
   "outputs": [
    {
     "data": {
      "text/plain": [
       "(125, 34795, 20)"
      ]
     },
     "execution_count": 6,
     "metadata": {},
     "output_type": "execute_result"
    }
   ],
   "source": [
    "data[0].shape"
   ]
  },
  {
   "cell_type": "code",
   "execution_count": 9,
   "id": "6df3a86f",
   "metadata": {},
   "outputs": [],
   "source": [
    "data = np.zeros(shape=(10,125,30000,20)) #song x chan x T x person\n",
    "for i in range(10): # channel x T x participant\n",
    "    data[i] = read_mat('song{}_Imputed.mat'.format(i + 21))['data{}'.format(i + 21)][:,:30000,:]"
   ]
  },
  {
   "cell_type": "code",
   "execution_count": 13,
   "id": "d0f2a915",
   "metadata": {},
   "outputs": [
    {
     "name": "stdout",
     "output_type": "stream",
     "text": [
      "(10, 125, 30000, 20)\n"
     ]
    },
    {
     "data": {
      "text/plain": [
       "(10, 30000, 20)"
      ]
     },
     "execution_count": 13,
     "metadata": {},
     "output_type": "execute_result"
    }
   ],
   "source": [
    "data_chanavg = np.mean(data, axis=1) #song x T x person"
   ]
  },
  {
   "cell_type": "code",
   "execution_count": 22,
   "id": "12d94c5f",
   "metadata": {},
   "outputs": [],
   "source": [
    "ratings = read_mat('behavioralRatings.mat')['behavioralRatings'][:,:,1].T #song x person"
   ]
  },
  {
   "cell_type": "code",
   "execution_count": 23,
   "id": "ec235ed7",
   "metadata": {},
   "outputs": [
    {
     "data": {
      "text/plain": [
       "(10, 20)"
      ]
     },
     "execution_count": 23,
     "metadata": {},
     "output_type": "execute_result"
    }
   ],
   "source": [
    "ratings.shape"
   ]
  },
  {
   "cell_type": "code",
   "execution_count": 27,
   "id": "d0fe6eeb",
   "metadata": {},
   "outputs": [
    {
     "name": "stdout",
     "output_type": "stream",
     "text": [
      "Collecting surprise\n",
      "  Downloading surprise-0.1-py2.py3-none-any.whl (1.8 kB)\n",
      "Collecting scikit-surprise\n",
      "  Downloading scikit-surprise-1.1.1.tar.gz (11.8 MB)\n",
      "Requirement already satisfied: joblib>=0.11 in c:\\users\\junom\\anaconda3\\lib\\site-packages (from scikit-surprise->surprise) (1.1.0)\n",
      "Requirement already satisfied: numpy>=1.11.2 in c:\\users\\junom\\anaconda3\\lib\\site-packages (from scikit-surprise->surprise) (1.20.2)\n",
      "Requirement already satisfied: scipy>=1.0.0 in c:\\users\\junom\\anaconda3\\lib\\site-packages (from scikit-surprise->surprise) (1.7.1)\n",
      "Requirement already satisfied: six>=1.10.0 in c:\\users\\junom\\anaconda3\\lib\\site-packages (from scikit-surprise->surprise) (1.16.0)\n",
      "Building wheels for collected packages: scikit-surprise\n",
      "  Building wheel for scikit-surprise (setup.py): started\n",
      "  Building wheel for scikit-surprise (setup.py): finished with status 'done'\n",
      "  Created wheel for scikit-surprise: filename=scikit_surprise-1.1.1-cp39-cp39-win_amd64.whl size=709737 sha256=c1ad9620f8f9ac37b89a7b194489bf6e2b7ba8dc669076cc94b9837bb59bc0cc\n",
      "  Stored in directory: c:\\users\\junom\\appdata\\local\\pip\\cache\\wheels\\6b\\10\\c9\\7f607c8cb522ef378844f41e63b30d7181a6495d2c1ae514e9\n",
      "Successfully built scikit-surprise\n",
      "Installing collected packages: scikit-surprise, surprise\n",
      "Successfully installed scikit-surprise-1.1.1 surprise-0.1\n"
     ]
    },
    {
     "name": "stderr",
     "output_type": "stream",
     "text": [
      "WARNING: Ignoring invalid distribution -atplotlib (c:\\users\\junom\\anaconda3\\lib\\site-packages)\n",
      "WARNING: Ignoring invalid distribution -atplotlib (c:\\users\\junom\\anaconda3\\lib\\site-packages)\n",
      "WARNING: Ignoring invalid distribution -atplotlib (c:\\users\\junom\\anaconda3\\lib\\site-packages)\n",
      "WARNING: Ignoring invalid distribution -atplotlib (c:\\users\\junom\\anaconda3\\lib\\site-packages)\n",
      "WARNING: Ignoring invalid distribution -atplotlib (c:\\users\\junom\\anaconda3\\lib\\site-packages)\n",
      "WARNING: Ignoring invalid distribution -atplotlib (c:\\users\\junom\\anaconda3\\lib\\site-packages)\n",
      "WARNING: Ignoring invalid distribution -atplotlib (c:\\users\\junom\\anaconda3\\lib\\site-packages)\n",
      "WARNING: Ignoring invalid distribution -atplotlib (c:\\users\\junom\\anaconda3\\lib\\site-packages)\n"
     ]
    }
   ],
   "source": [
    "!pip install surprise"
   ]
  },
  {
   "cell_type": "code",
   "execution_count": 29,
   "id": "a30c7236",
   "metadata": {},
   "outputs": [
    {
     "name": "stdout",
     "output_type": "stream",
     "text": [
      "(10, 30000, 20)\n"
     ]
    },
    {
     "data": {
      "text/plain": [
       "(10, 20)"
      ]
     },
     "execution_count": 29,
     "metadata": {},
     "output_type": "execute_result"
    }
   ],
   "source": [
    "print(data_chanavg.shape)\n",
    "ratings.shape"
   ]
  },
  {
   "cell_type": "code",
   "execution_count": 33,
   "id": "31b0bc81",
   "metadata": {},
   "outputs": [
    {
     "name": "stdout",
     "output_type": "stream",
     "text": [
      "Collecting einops\n",
      "  Downloading einops-0.4.1-py3-none-any.whl (28 kB)\n",
      "Installing collected packages: einops\n",
      "Successfully installed einops-0.4.1\n",
      "Note: you may need to restart the kernel to use updated packages.\n"
     ]
    },
    {
     "name": "stderr",
     "output_type": "stream",
     "text": [
      "WARNING: Ignoring invalid distribution -atplotlib (c:\\users\\junom\\anaconda3\\lib\\site-packages)\n",
      "WARNING: Ignoring invalid distribution -atplotlib (c:\\users\\junom\\anaconda3\\lib\\site-packages)\n",
      "WARNING: Ignoring invalid distribution -atplotlib (c:\\users\\junom\\anaconda3\\lib\\site-packages)\n",
      "WARNING: Ignoring invalid distribution -atplotlib (c:\\users\\junom\\anaconda3\\lib\\site-packages)\n",
      "WARNING: Ignoring invalid distribution -atplotlib (c:\\users\\junom\\anaconda3\\lib\\site-packages)\n",
      "WARNING: Ignoring invalid distribution -atplotlib (c:\\users\\junom\\anaconda3\\lib\\site-packages)\n",
      "WARNING: Ignoring invalid distribution -atplotlib (c:\\users\\junom\\anaconda3\\lib\\site-packages)\n"
     ]
    }
   ],
   "source": [
    "pip install einops"
   ]
  },
  {
   "cell_type": "code",
   "execution_count": 35,
   "id": "f0bd8fa9",
   "metadata": {},
   "outputs": [],
   "source": [
    "from einops import rearrange"
   ]
  },
  {
   "cell_type": "code",
   "execution_count": 38,
   "id": "65b95272",
   "metadata": {},
   "outputs": [],
   "source": [
    "dataflat=rearrange(data_chanavg,'s t u -> (s u) t')\n",
    "ratingsflat = ratings.reshape(200)"
   ]
  },
  {
   "cell_type": "code",
   "execution_count": 37,
   "id": "0171d372",
   "metadata": {},
   "outputs": [
    {
     "data": {
      "text/plain": [
       "(200, 30000)"
      ]
     },
     "execution_count": 37,
     "metadata": {},
     "output_type": "execute_result"
    }
   ],
   "source": []
  },
  {
   "cell_type": "code",
   "execution_count": 31,
   "id": "1fee8954",
   "metadata": {},
   "outputs": [
    {
     "ename": "TypeError",
     "evalue": "Field elements must be 2- or 3-tuples, got '[5, 6]'",
     "output_type": "error",
     "traceback": [
      "\u001b[1;31m---------------------------------------------------------------------------\u001b[0m",
      "\u001b[1;31mTypeError\u001b[0m                                 Traceback (most recent call last)",
      "\u001b[1;32m~\\AppData\\Local\\Temp/ipykernel_40492/279145695.py\u001b[0m in \u001b[0;36m<module>\u001b[1;34m\u001b[0m\n\u001b[1;32m----> 1\u001b[1;33m matr = np.array([[1, 2],\n\u001b[0m\u001b[0;32m      2\u001b[0m               [3, 4]],\n\u001b[0;32m      3\u001b[0m                       [[5, 6],\n\u001b[0;32m      4\u001b[0m                        [7, 8]])\n\u001b[0;32m      5\u001b[0m \u001b[0mprint\u001b[0m\u001b[1;33m(\u001b[0m\u001b[0mmatr\u001b[0m\u001b[1;33m.\u001b[0m\u001b[0mshape\u001b[0m\u001b[1;33m)\u001b[0m\u001b[1;33m\u001b[0m\u001b[1;33m\u001b[0m\u001b[0m\n",
      "\u001b[1;31mTypeError\u001b[0m: Field elements must be 2- or 3-tuples, got '[5, 6]'"
     ]
    }
   ],
   "source": [
    "'''matr = np.array(((1, 2),\n",
    "              (3, 4)),\n",
    "                      [[5, 6],\n",
    "                       [7, 8]])\n",
    "print(matr.shape)\n",
    "print(np.reshape(matr, (2, 2, 2)))'''"
   ]
  },
  {
   "cell_type": "code",
   "execution_count": 62,
   "id": "ea4ed32b",
   "metadata": {},
   "outputs": [
    {
     "data": {
      "text/plain": [
       "RandomForestRegressor()"
      ]
     },
     "execution_count": 62,
     "metadata": {},
     "output_type": "execute_result"
    }
   ],
   "source": [
    "clf = RandomForestRegressor()\n",
    "x_train, x_test, y_train, y_test = train_test_split(dataflat, ratingsflat, test_size = 0.70, random_state = 5)\n",
    "clf.fit(x_train, y_train)"
   ]
  },
  {
   "cell_type": "code",
   "execution_count": 63,
   "id": "f2603f5c",
   "metadata": {},
   "outputs": [
    {
     "name": "stdout",
     "output_type": "stream",
     "text": [
      "4.181856000000001\n"
     ]
    }
   ],
   "source": [
    "y_pred_test = clf.predict(x_test)\n",
    "diffs = []\n",
    "for i in range(50):\n",
    "    diffs.append( y_pred_test[i] - y_test[i] )\n",
    "print(np.mean([x**2 for x in diffs])) #could be worse.."
   ]
  },
  {
   "cell_type": "code",
   "execution_count": 78,
   "id": "6728f743",
   "metadata": {},
   "outputs": [
    {
     "name": "stdout",
     "output_type": "stream",
     "text": [
      "13.181604771511768\n"
     ]
    }
   ],
   "source": [
    "import random\n",
    "print(np.mean([(random.uniform(1,10) - random.uniform(1,10))**2 for _ in range(1000)]))"
   ]
  },
  {
   "cell_type": "code",
   "execution_count": 79,
   "id": "f8a9b2f2",
   "metadata": {},
   "outputs": [
    {
     "name": "stdout",
     "output_type": "stream",
     "text": [
      "4.303830811865886\n"
     ]
    }
   ],
   "source": [
    "clf = AdaBoostRegressor()\n",
    "clf.fit(x_train, y_train)\n",
    "y_pred_test = clf.predict(x_test)\n",
    "diffs = []\n",
    "for i in range(50):\n",
    "    diffs.append( y_pred_test[i] - y_test[i] )\n",
    "print(np.mean([x**2 for x in diffs]))"
   ]
  },
  {
   "cell_type": "code",
   "execution_count": 80,
   "id": "ac0eb328",
   "metadata": {},
   "outputs": [
    {
     "name": "stdout",
     "output_type": "stream",
     "text": [
      "4.679148399125711\n"
     ]
    }
   ],
   "source": [
    "clf = GradientBoostingRegressor()\n",
    "clf.fit(x_train, y_train)\n",
    "y_pred_test = clf.predict(x_test)\n",
    "diffs = []\n",
    "for i in range(50):\n",
    "    diffs.append( y_pred_test[i] - y_test[i] )\n",
    "print(np.mean([x**2 for x in diffs]))"
   ]
  },
  {
   "cell_type": "code",
   "execution_count": 83,
   "id": "0d8db832",
   "metadata": {},
   "outputs": [
    {
     "name": "stdout",
     "output_type": "stream",
     "text": [
      "5.24\n"
     ]
    }
   ],
   "source": [
    "from sklearn import linear_model\n",
    "clf = linear_model.LogisticRegression()\n",
    "clf.fit(x_train, y_train)\n",
    "y_pred_test = clf.predict(x_test)\n",
    "diffs = []\n",
    "for i in range(50):\n",
    "    diffs.append( y_pred_test[i] - y_test[i] )\n",
    "print(np.mean([x**2 for x in diffs]))"
   ]
  },
  {
   "cell_type": "code",
   "execution_count": 85,
   "id": "7ff34464",
   "metadata": {},
   "outputs": [
    {
     "name": "stdout",
     "output_type": "stream",
     "text": [
      "4.2304\n"
     ]
    }
   ],
   "source": [
    "from sklearn import neighbors\n",
    "clf = neighbors.KNeighborsRegressor()\n",
    "clf.fit(x_train, y_train)\n",
    "y_pred_test = clf.predict(x_test)\n",
    "diffs = []\n",
    "for i in range(50):\n",
    "    diffs.append( y_pred_test[i] - y_test[i] )\n",
    "print(np.mean([x**2 for x in diffs]))"
   ]
  },
  {
   "cell_type": "code",
   "execution_count": null,
   "id": "a7b7a56c",
   "metadata": {},
   "outputs": [],
   "source": []
  }
 ],
 "metadata": {
  "kernelspec": {
   "display_name": "Python 3 (ipykernel)",
   "language": "python",
   "name": "python3"
  },
  "language_info": {
   "codemirror_mode": {
    "name": "ipython",
    "version": 3
   },
   "file_extension": ".py",
   "mimetype": "text/x-python",
   "name": "python",
   "nbconvert_exporter": "python",
   "pygments_lexer": "ipython3",
   "version": "3.9.12"
  }
 },
 "nbformat": 4,
 "nbformat_minor": 5
}
