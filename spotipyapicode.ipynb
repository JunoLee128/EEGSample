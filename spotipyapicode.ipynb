{
 "cells": [
  {
   "cell_type": "code",
   "execution_count": 2,
   "id": "27e20d2c",
   "metadata": {},
   "outputs": [
    {
     "name": "stdout",
     "output_type": "stream",
     "text": [
      "Collecting package metadata (current_repodata.json): ...working... done\n",
      "Solving environment: ...working... done\n",
      "\n",
      "## Package Plan ##\n",
      "\n",
      "  environment location: C:\\Users\\juno\\anaconda3\n",
      "\n",
      "  added / updated specs:\n",
      "    - spotipy\n",
      "\n",
      "\n",
      "The following packages will be downloaded:\n",
      "\n",
      "    package                    |            build\n",
      "    ---------------------------|-----------------\n",
      "    redis-py-3.5.3             |     pyh9f0ad1d_0          60 KB  conda-forge\n",
      "    spotipy-2.20.0             |     pyhd8ed1ab_0          28 KB  conda-forge\n",
      "    ------------------------------------------------------------\n",
      "                                           Total:          88 KB\n",
      "\n",
      "The following NEW packages will be INSTALLED:\n",
      "\n",
      "  redis-py           conda-forge/noarch::redis-py-3.5.3-pyh9f0ad1d_0 None\n",
      "  spotipy            conda-forge/noarch::spotipy-2.20.0-pyhd8ed1ab_0 None\n",
      "\n",
      "\n",
      "\n",
      "Downloading and Extracting Packages\n",
      "\n",
      "spotipy-2.20.0       | 28 KB     |            |   0% \n",
      "spotipy-2.20.0       | 28 KB     | #####7     |  57% \n",
      "spotipy-2.20.0       | 28 KB     | ########## | 100% \n",
      "\n",
      "redis-py-3.5.3       | 60 KB     |            |   0% \n",
      "redis-py-3.5.3       | 60 KB     | ########## | 100% \n",
      "Preparing transaction: ...working... done\n",
      "Verifying transaction: ...working... done\n",
      "Executing transaction: ...working... done\n",
      "Retrieving notices: ...working... done\n",
      "\n",
      "Note: you may need to restart the kernel to use updated packages.\n"
     ]
    }
   ],
   "source": [
    "conda install -c conda-forge spotipy"
   ]
  },
  {
   "cell_type": "code",
   "execution_count": 6,
   "id": "a4b25534",
   "metadata": {},
   "outputs": [],
   "source": [
    "import spotipy\n",
    "from spotipy.oauth2 import SpotifyClientCredentials\n",
    "\n",
    "client_credentials_manager = SpotifyClientCredentials(client_id='xxxxxx',\n",
    "                                                     client_secret='xxxxx') #please make your own spotify account, and put the api credentials here\n",
    "sp = spotipy.Spotify(client_credentials_manager=client_credentials_manager)"
   ]
  },
  {
   "cell_type": "code",
   "execution_count": 7,
   "id": "7549a39c",
   "metadata": {},
   "outputs": [],
   "source": [
    "playlist_link = \"https://open.spotify.com/playlist/37i9dQZEVXbNG2KDcFcKOF?si=1333723a6eff4b7f\"\n",
    "playlist_URI = playlist_link.split(\"/\")[-1].split(\"?\")[0]\n",
    "track_uris = [x[\"track\"][\"uri\"] for x in sp.playlist_tracks(playlist_URI)[\"items\"]]"
   ]
  },
  {
   "cell_type": "code",
   "execution_count": 56,
   "id": "77ddfaeb",
   "metadata": {},
   "outputs": [
    {
     "name": "stderr",
     "output_type": "stream",
     "text": [
      "'conda-pip' is not recognized as an internal or external command,\n",
      "operable program or batch file.\n"
     ]
    }
   ],
   "source": []
  },
  {
   "cell_type": "code",
   "execution_count": 18,
   "id": "ba0cc470",
   "metadata": {},
   "outputs": [
    {
     "name": "stdout",
     "output_type": "stream",
     "text": [
      "Unholy (feat. Kim Petras)\n",
      "spotify:track:3nqQXoyQOWXiESFLlDF1hG\n",
      "{'danceability': 0.714, 'energy': 0.472, 'key': 2, 'loudness': -7.375, 'mode': 1, 'speechiness': 0.0864, 'acousticness': 0.013, 'instrumentalness': 4.51e-06, 'liveness': 0.266, 'valence': 0.238, 'tempo': 131.121, 'type': 'audio_features', 'id': '3nqQXoyQOWXiESFLlDF1hG', 'uri': 'spotify:track:3nqQXoyQOWXiESFLlDF1hG', 'track_href': 'https://api.spotify.com/v1/tracks/3nqQXoyQOWXiESFLlDF1hG', 'analysis_url': 'https://api.spotify.com/v1/audio-analysis/3nqQXoyQOWXiESFLlDF1hG', 'duration_ms': 156943, 'time_signature': 4}\n",
      "\n",
      "I'm Good (Blue)\n",
      "spotify:track:4uUG5RXrOk84mYEfFvj3cK\n",
      "{'danceability': 0.561, 'energy': 0.965, 'key': 7, 'loudness': -3.673, 'mode': 0, 'speechiness': 0.0343, 'acousticness': 0.00383, 'instrumentalness': 7.07e-06, 'liveness': 0.371, 'valence': 0.304, 'tempo': 128.04, 'type': 'audio_features', 'id': '4uUG5RXrOk84mYEfFvj3cK', 'uri': 'spotify:track:4uUG5RXrOk84mYEfFvj3cK', 'track_href': 'https://api.spotify.com/v1/tracks/4uUG5RXrOk84mYEfFvj3cK', 'analysis_url': 'https://api.spotify.com/v1/audio-analysis/4uUG5RXrOk84mYEfFvj3cK', 'duration_ms': 175238, 'time_signature': 4}\n",
      "\n",
      "As It Was\n",
      "spotify:track:4Dvkj6JhhA12EX05fT7y2e\n",
      "{'danceability': 0.52, 'energy': 0.731, 'key': 6, 'loudness': -5.338, 'mode': 0, 'speechiness': 0.0557, 'acousticness': 0.342, 'instrumentalness': 0.00101, 'liveness': 0.311, 'valence': 0.662, 'tempo': 173.93, 'type': 'audio_features', 'id': '4Dvkj6JhhA12EX05fT7y2e', 'uri': 'spotify:track:4Dvkj6JhhA12EX05fT7y2e', 'track_href': 'https://api.spotify.com/v1/tracks/4Dvkj6JhhA12EX05fT7y2e', 'analysis_url': 'https://api.spotify.com/v1/audio-analysis/4Dvkj6JhhA12EX05fT7y2e', 'duration_ms': 167303, 'time_signature': 4}\n",
      "\n",
      "Quevedo: Bzrp Music Sessions, Vol. 52\n",
      "spotify:track:2tTmW7RDtMQtBk7m2rYeSw\n",
      "{'danceability': 0.621, 'energy': 0.782, 'key': 2, 'loudness': -5.548, 'mode': 1, 'speechiness': 0.044, 'acousticness': 0.0125, 'instrumentalness': 0.033, 'liveness': 0.23, 'valence': 0.55, 'tempo': 128.033, 'type': 'audio_features', 'id': '2tTmW7RDtMQtBk7m2rYeSw', 'uri': 'spotify:track:2tTmW7RDtMQtBk7m2rYeSw', 'track_href': 'https://api.spotify.com/v1/tracks/2tTmW7RDtMQtBk7m2rYeSw', 'analysis_url': 'https://api.spotify.com/v1/audio-analysis/2tTmW7RDtMQtBk7m2rYeSw', 'duration_ms': 198938, 'time_signature': 4}\n",
      "\n",
      "La Bachata\n",
      "spotify:track:5ww2BF9slyYgNOk37BlC4u\n",
      "{'danceability': 0.835, 'energy': 0.679, 'key': 7, 'loudness': -5.329, 'mode': 0, 'speechiness': 0.0364, 'acousticness': 0.583, 'instrumentalness': 1.98e-06, 'liveness': 0.218, 'valence': 0.85, 'tempo': 124.98, 'type': 'audio_features', 'id': '5ww2BF9slyYgNOk37BlC4u', 'uri': 'spotify:track:5ww2BF9slyYgNOk37BlC4u', 'track_href': 'https://api.spotify.com/v1/tracks/5ww2BF9slyYgNOk37BlC4u', 'analysis_url': 'https://api.spotify.com/v1/audio-analysis/5ww2BF9slyYgNOk37BlC4u', 'duration_ms': 162638, 'time_signature': 4}\n",
      "\n",
      "Me Porto Bonito\n",
      "spotify:track:6Sq7ltF9Qa7SNFBsV5Cogx\n",
      "{'danceability': 0.911, 'energy': 0.712, 'key': 1, 'loudness': -5.105, 'mode': 0, 'speechiness': 0.0817, 'acousticness': 0.0901, 'instrumentalness': 2.68e-05, 'liveness': 0.0933, 'valence': 0.425, 'tempo': 92.005, 'type': 'audio_features', 'id': '6Sq7ltF9Qa7SNFBsV5Cogx', 'uri': 'spotify:track:6Sq7ltF9Qa7SNFBsV5Cogx', 'track_href': 'https://api.spotify.com/v1/tracks/6Sq7ltF9Qa7SNFBsV5Cogx', 'analysis_url': 'https://api.spotify.com/v1/audio-analysis/6Sq7ltF9Qa7SNFBsV5Cogx', 'duration_ms': 178567, 'time_signature': 4}\n",
      "\n",
      "Tití Me Preguntó\n",
      "spotify:track:1IHWl5LamUGEuP4ozKQSXZ\n",
      "{'danceability': 0.65, 'energy': 0.715, 'key': 5, 'loudness': -5.198, 'mode': 0, 'speechiness': 0.253, 'acousticness': 0.0993, 'instrumentalness': 0.000291, 'liveness': 0.126, 'valence': 0.187, 'tempo': 106.672, 'type': 'audio_features', 'id': '1IHWl5LamUGEuP4ozKQSXZ', 'uri': 'spotify:track:1IHWl5LamUGEuP4ozKQSXZ', 'track_href': 'https://api.spotify.com/v1/tracks/1IHWl5LamUGEuP4ozKQSXZ', 'analysis_url': 'https://api.spotify.com/v1/audio-analysis/1IHWl5LamUGEuP4ozKQSXZ', 'duration_ms': 243717, 'time_signature': 4}\n",
      "\n",
      "Under The Influence\n",
      "spotify:track:5IgjP7X4th6nMNDh4akUHb\n",
      "{'danceability': 0.733, 'energy': 0.69, 'key': 9, 'loudness': -5.529, 'mode': 0, 'speechiness': 0.0427, 'acousticness': 0.0635, 'instrumentalness': 1.18e-06, 'liveness': 0.105, 'valence': 0.31, 'tempo': 116.992, 'type': 'audio_features', 'id': '5IgjP7X4th6nMNDh4akUHb', 'uri': 'spotify:track:5IgjP7X4th6nMNDh4akUHb', 'track_href': 'https://api.spotify.com/v1/tracks/5IgjP7X4th6nMNDh4akUHb', 'analysis_url': 'https://api.spotify.com/v1/audio-analysis/5IgjP7X4th6nMNDh4akUHb', 'duration_ms': 184613, 'time_signature': 4}\n",
      "\n",
      "I Ain't Worried\n",
      "spotify:track:4h9wh7iOZ0GGn8QVp4RAOB\n",
      "{'danceability': 0.704, 'energy': 0.797, 'key': 0, 'loudness': -5.927, 'mode': 1, 'speechiness': 0.0475, 'acousticness': 0.0826, 'instrumentalness': 0.000745, 'liveness': 0.0546, 'valence': 0.825, 'tempo': 139.994, 'type': 'audio_features', 'id': '4h9wh7iOZ0GGn8QVp4RAOB', 'uri': 'spotify:track:4h9wh7iOZ0GGn8QVp4RAOB', 'track_href': 'https://api.spotify.com/v1/tracks/4h9wh7iOZ0GGn8QVp4RAOB', 'analysis_url': 'https://api.spotify.com/v1/audio-analysis/4h9wh7iOZ0GGn8QVp4RAOB', 'duration_ms': 148486, 'time_signature': 4}\n",
      "\n",
      "Bad Habit\n",
      "spotify:track:4k6Uh1HXdhtusDW5y8Gbvy\n",
      "{'danceability': 0.686, 'energy': 0.494, 'key': 1, 'loudness': -7.093, 'mode': 1, 'speechiness': 0.0355, 'acousticness': 0.613, 'instrumentalness': 5.8e-05, 'liveness': 0.402, 'valence': 0.7, 'tempo': 168.946, 'type': 'audio_features', 'id': '4k6Uh1HXdhtusDW5y8Gbvy', 'uri': 'spotify:track:4k6Uh1HXdhtusDW5y8Gbvy', 'track_href': 'https://api.spotify.com/v1/tracks/4k6Uh1HXdhtusDW5y8Gbvy', 'analysis_url': 'https://api.spotify.com/v1/audio-analysis/4k6Uh1HXdhtusDW5y8Gbvy', 'duration_ms': 232067, 'time_signature': 4}\n",
      "\n",
      "DESPECHÁ\n",
      "spotify:track:53tfEupEzQRtVFOeZvk7xq\n",
      "{'danceability': 0.914, 'energy': 0.622, 'key': 7, 'loudness': -6.538, 'mode': 1, 'speechiness': 0.0892, 'acousticness': 0.146, 'instrumentalness': 1.68e-05, 'liveness': 0.0632, 'valence': 0.77, 'tempo': 130.04, 'type': 'audio_features', 'id': '53tfEupEzQRtVFOeZvk7xq', 'uri': 'spotify:track:53tfEupEzQRtVFOeZvk7xq', 'track_href': 'https://api.spotify.com/v1/tracks/53tfEupEzQRtVFOeZvk7xq', 'analysis_url': 'https://api.spotify.com/v1/audio-analysis/53tfEupEzQRtVFOeZvk7xq', 'duration_ms': 156788, 'time_signature': 4}\n",
      "\n",
      "Efecto\n",
      "spotify:track:5Eax0qFko2dh7Rl2lYs3bx\n",
      "{'danceability': 0.801, 'energy': 0.475, 'key': 7, 'loudness': -8.797, 'mode': 0, 'speechiness': 0.0516, 'acousticness': 0.141, 'instrumentalness': 1.73e-05, 'liveness': 0.0639, 'valence': 0.234, 'tempo': 98.047, 'type': 'audio_features', 'id': '5Eax0qFko2dh7Rl2lYs3bx', 'uri': 'spotify:track:5Eax0qFko2dh7Rl2lYs3bx', 'track_href': 'https://api.spotify.com/v1/tracks/5Eax0qFko2dh7Rl2lYs3bx', 'analysis_url': 'https://api.spotify.com/v1/audio-analysis/5Eax0qFko2dh7Rl2lYs3bx', 'duration_ms': 213061, 'time_signature': 4}\n",
      "\n",
      "CUFF IT\n",
      "spotify:track:1xzi1Jcr7mEi9K2RfzLOqS\n",
      "{'danceability': 0.78, 'energy': 0.689, 'key': 7, 'loudness': -5.668, 'mode': 1, 'speechiness': 0.141, 'acousticness': 0.0368, 'instrumentalness': 9.69e-06, 'liveness': 0.0698, 'valence': 0.642, 'tempo': 115.042, 'type': 'audio_features', 'id': '1xzi1Jcr7mEi9K2RfzLOqS', 'uri': 'spotify:track:1xzi1Jcr7mEi9K2RfzLOqS', 'track_href': 'https://api.spotify.com/v1/tracks/1xzi1Jcr7mEi9K2RfzLOqS', 'analysis_url': 'https://api.spotify.com/v1/audio-analysis/1xzi1Jcr7mEi9K2RfzLOqS', 'duration_ms': 225389, 'time_signature': 4}\n",
      "\n",
      "Shut Down\n",
      "spotify:track:7gRFDGEzF9UkBV233yv2dc\n",
      "{'danceability': 0.818, 'energy': 0.69, 'key': 0, 'loudness': -5.119, 'mode': 1, 'speechiness': 0.0454, 'acousticness': 0.00327, 'instrumentalness': 0, 'liveness': 0.186, 'valence': 0.688, 'tempo': 110.071, 'type': 'audio_features', 'id': '7gRFDGEzF9UkBV233yv2dc', 'uri': 'spotify:track:7gRFDGEzF9UkBV233yv2dc', 'track_href': 'https://api.spotify.com/v1/tracks/7gRFDGEzF9UkBV233yv2dc', 'analysis_url': 'https://api.spotify.com/v1/audio-analysis/7gRFDGEzF9UkBV233yv2dc', 'duration_ms': 175889, 'time_signature': 3}\n",
      "\n",
      "Another Love\n",
      "spotify:track:7jtQIBanIiJOMS6RyCx6jZ\n",
      "{'danceability': 0.442, 'energy': 0.538, 'key': 4, 'loudness': -8.55, 'mode': 0, 'speechiness': 0.0451, 'acousticness': 0.717, 'instrumentalness': 2.95e-05, 'liveness': 0.09, 'valence': 0.139, 'tempo': 122.758, 'type': 'audio_features', 'id': '7jtQIBanIiJOMS6RyCx6jZ', 'uri': 'spotify:track:7jtQIBanIiJOMS6RyCx6jZ', 'track_href': 'https://api.spotify.com/v1/tracks/7jtQIBanIiJOMS6RyCx6jZ', 'analysis_url': 'https://api.spotify.com/v1/audio-analysis/7jtQIBanIiJOMS6RyCx6jZ', 'duration_ms': 244360, 'time_signature': 4}\n",
      "\n",
      "Ojitos Lindos\n",
      "spotify:track:3k3NWokhRRkEPhCzPmV8TW\n"
     ]
    },
    {
     "name": "stdout",
     "output_type": "stream",
     "text": [
      "{'danceability': 0.647, 'energy': 0.686, 'key': 3, 'loudness': -5.745, 'mode': 0, 'speechiness': 0.0413, 'acousticness': 0.08, 'instrumentalness': 1.34e-06, 'liveness': 0.528, 'valence': 0.268, 'tempo': 79.928, 'type': 'audio_features', 'id': '3k3NWokhRRkEPhCzPmV8TW', 'uri': 'spotify:track:3k3NWokhRRkEPhCzPmV8TW', 'track_href': 'https://api.spotify.com/v1/tracks/3k3NWokhRRkEPhCzPmV8TW', 'analysis_url': 'https://api.spotify.com/v1/audio-analysis/3k3NWokhRRkEPhCzPmV8TW', 'duration_ms': 258299, 'time_signature': 4}\n",
      "\n",
      "SNAP\n",
      "spotify:track:6zJejIfVYLgjud3lTk4DLB\n",
      "{'danceability': 0.565, 'energy': 0.636, 'key': 0, 'loudness': -8.198, 'mode': 1, 'speechiness': 0.0638, 'acousticness': 0.107, 'instrumentalness': 9.9e-06, 'liveness': 0.447, 'valence': 0.525, 'tempo': 170.01, 'type': 'audio_features', 'id': '6zJejIfVYLgjud3lTk4DLB', 'uri': 'spotify:track:6zJejIfVYLgjud3lTk4DLB', 'track_href': 'https://api.spotify.com/v1/tracks/6zJejIfVYLgjud3lTk4DLB', 'analysis_url': 'https://api.spotify.com/v1/audio-analysis/6zJejIfVYLgjud3lTk4DLB', 'duration_ms': 179551, 'time_signature': 4}\n",
      "\n",
      "Super Freaky Girl\n",
      "spotify:track:2yjlYDiNiQkdxVqTlaSrlX\n",
      "{'danceability': 0.951, 'energy': 0.878, 'key': 2, 'loudness': -2.565, 'mode': 1, 'speechiness': 0.211, 'acousticness': 0.0509, 'instrumentalness': 1.61e-05, 'liveness': 0.321, 'valence': 0.923, 'tempo': 133.014, 'type': 'audio_features', 'id': '2yjlYDiNiQkdxVqTlaSrlX', 'uri': 'spotify:track:2yjlYDiNiQkdxVqTlaSrlX', 'track_href': 'https://api.spotify.com/v1/tracks/2yjlYDiNiQkdxVqTlaSrlX', 'analysis_url': 'https://api.spotify.com/v1/audio-analysis/2yjlYDiNiQkdxVqTlaSrlX', 'duration_ms': 170977, 'time_signature': 4}\n",
      "\n",
      "Glimpse of Us\n",
      "spotify:track:6xGruZOHLs39ZbVccQTuPZ\n",
      "{'danceability': 0.44, 'energy': 0.317, 'key': 8, 'loudness': -9.258, 'mode': 1, 'speechiness': 0.0531, 'acousticness': 0.891, 'instrumentalness': 4.78e-06, 'liveness': 0.141, 'valence': 0.268, 'tempo': 169.914, 'type': 'audio_features', 'id': '6xGruZOHLs39ZbVccQTuPZ', 'uri': 'spotify:track:6xGruZOHLs39ZbVccQTuPZ', 'track_href': 'https://api.spotify.com/v1/tracks/6xGruZOHLs39ZbVccQTuPZ', 'analysis_url': 'https://api.spotify.com/v1/audio-analysis/6xGruZOHLs39ZbVccQTuPZ', 'duration_ms': 233456, 'time_signature': 3}\n",
      "\n",
      "Romantic Homicide\n",
      "spotify:track:1xK59OXxi2TAAAbmZK0kBL\n",
      "{'danceability': 0.571, 'energy': 0.544, 'key': 6, 'loudness': -10.613, 'mode': 1, 'speechiness': 0.0299, 'acousticness': 0.453, 'instrumentalness': 0.00805, 'liveness': 0.322, 'valence': 0.216, 'tempo': 132.052, 'type': 'audio_features', 'id': '1xK59OXxi2TAAAbmZK0kBL', 'uri': 'spotify:track:1xK59OXxi2TAAAbmZK0kBL', 'track_href': 'https://api.spotify.com/v1/tracks/1xK59OXxi2TAAAbmZK0kBL', 'analysis_url': 'https://api.spotify.com/v1/audio-analysis/1xK59OXxi2TAAAbmZK0kBL', 'duration_ms': 132631, 'time_signature': 4}\n",
      "\n",
      "Sweater Weather\n",
      "spotify:track:2QjOHCTQ1Jl3zawyYOpxh6\n",
      "{'danceability': 0.612, 'energy': 0.807, 'key': 10, 'loudness': -2.81, 'mode': 1, 'speechiness': 0.0336, 'acousticness': 0.0495, 'instrumentalness': 0.0177, 'liveness': 0.101, 'valence': 0.398, 'tempo': 124.053, 'type': 'audio_features', 'id': '2QjOHCTQ1Jl3zawyYOpxh6', 'uri': 'spotify:track:2QjOHCTQ1Jl3zawyYOpxh6', 'track_href': 'https://api.spotify.com/v1/tracks/2QjOHCTQ1Jl3zawyYOpxh6', 'analysis_url': 'https://api.spotify.com/v1/audio-analysis/2QjOHCTQ1Jl3zawyYOpxh6', 'duration_ms': 240400, 'time_signature': 4}\n",
      "\n",
      "Heat Waves\n",
      "spotify:track:02MWAaffLxlfxAUY7c5dvx\n",
      "{'danceability': 0.761, 'energy': 0.525, 'key': 11, 'loudness': -6.9, 'mode': 1, 'speechiness': 0.0944, 'acousticness': 0.44, 'instrumentalness': 6.7e-06, 'liveness': 0.0921, 'valence': 0.531, 'tempo': 80.87, 'type': 'audio_features', 'id': '02MWAaffLxlfxAUY7c5dvx', 'uri': 'spotify:track:02MWAaffLxlfxAUY7c5dvx', 'track_href': 'https://api.spotify.com/v1/tracks/02MWAaffLxlfxAUY7c5dvx', 'analysis_url': 'https://api.spotify.com/v1/audio-analysis/02MWAaffLxlfxAUY7c5dvx', 'duration_ms': 238805, 'time_signature': 4}\n",
      "\n",
      "Until I Found You\n",
      "spotify:track:6VhuP99TE6gYNQRJIlAWFD\n",
      "{'danceability': 0.346, 'energy': 0.5, 'key': 10, 'loudness': -6.097, 'mode': 1, 'speechiness': 0.0388, 'acousticness': 0.757, 'instrumentalness': 0, 'liveness': 0.189, 'valence': 0.191, 'tempo': 202.466, 'type': 'audio_features', 'id': '6VhuP99TE6gYNQRJIlAWFD', 'uri': 'spotify:track:6VhuP99TE6gYNQRJIlAWFD', 'track_href': 'https://api.spotify.com/v1/tracks/6VhuP99TE6gYNQRJIlAWFD', 'analysis_url': 'https://api.spotify.com/v1/audio-analysis/6VhuP99TE6gYNQRJIlAWFD', 'duration_ms': 176667, 'time_signature': 3}\n",
      "\n",
      "Neverita\n",
      "spotify:track:31i56LZnwE6uSu3exoHjtB\n",
      "{'danceability': 0.876, 'energy': 0.498, 'key': 10, 'loudness': -7.511, 'mode': 1, 'speechiness': 0.0478, 'acousticness': 0.0706, 'instrumentalness': 0, 'liveness': 0.143, 'valence': 0.428, 'tempo': 122.016, 'type': 'audio_features', 'id': '31i56LZnwE6uSu3exoHjtB', 'uri': 'spotify:track:31i56LZnwE6uSu3exoHjtB', 'track_href': 'https://api.spotify.com/v1/tracks/31i56LZnwE6uSu3exoHjtB', 'analysis_url': 'https://api.spotify.com/v1/audio-analysis/31i56LZnwE6uSu3exoHjtB', 'duration_ms': 173119, 'time_signature': 4}\n",
      "\n",
      "Pink Venom\n",
      "spotify:track:5zwwW9Oq7ubSxoCGyW1nbY\n",
      "{'danceability': 0.693, 'energy': 0.734, 'key': 4, 'loudness': -6.189, 'mode': 1, 'speechiness': 0.202, 'acousticness': 0.0145, 'instrumentalness': 0, 'liveness': 0.217, 'valence': 0.708, 'tempo': 180.06, 'type': 'audio_features', 'id': '5zwwW9Oq7ubSxoCGyW1nbY', 'uri': 'spotify:track:5zwwW9Oq7ubSxoCGyW1nbY', 'track_href': 'https://api.spotify.com/v1/tracks/5zwwW9Oq7ubSxoCGyW1nbY', 'analysis_url': 'https://api.spotify.com/v1/audio-analysis/5zwwW9Oq7ubSxoCGyW1nbY', 'duration_ms': 186964, 'time_signature': 4}\n",
      "\n",
      "Moscow Mule\n",
      "spotify:track:6Xom58OOXk2SoU711L2IXO\n",
      "{'danceability': 0.804, 'energy': 0.674, 'key': 5, 'loudness': -5.453, 'mode': 0, 'speechiness': 0.0333, 'acousticness': 0.294, 'instrumentalness': 1.18e-06, 'liveness': 0.115, 'valence': 0.292, 'tempo': 99.968, 'type': 'audio_features', 'id': '6Xom58OOXk2SoU711L2IXO', 'uri': 'spotify:track:6Xom58OOXk2SoU711L2IXO', 'track_href': 'https://api.spotify.com/v1/tracks/6Xom58OOXk2SoU711L2IXO', 'analysis_url': 'https://api.spotify.com/v1/audio-analysis/6Xom58OOXk2SoU711L2IXO', 'duration_ms': 245940, 'time_signature': 4}\n",
      "\n",
      "Die For You\n",
      "spotify:track:2LBqCSwhJGcFQeTHMVGwy3\n",
      "{'danceability': 0.586, 'energy': 0.525, 'key': 1, 'loudness': -7.163, 'mode': 0, 'speechiness': 0.0615, 'acousticness': 0.111, 'instrumentalness': 0, 'liveness': 0.134, 'valence': 0.508, 'tempo': 133.629, 'type': 'audio_features', 'id': '2LBqCSwhJGcFQeTHMVGwy3', 'uri': 'spotify:track:2LBqCSwhJGcFQeTHMVGwy3', 'track_href': 'https://api.spotify.com/v1/tracks/2LBqCSwhJGcFQeTHMVGwy3', 'analysis_url': 'https://api.spotify.com/v1/audio-analysis/2LBqCSwhJGcFQeTHMVGwy3', 'duration_ms': 260253, 'time_signature': 4}\n",
      "\n",
      "Calm Down (with Selena Gomez)\n",
      "spotify:track:0WtM2NBVQNNJLh6scP13H8\n",
      "{'danceability': 0.801, 'energy': 0.806, 'key': 11, 'loudness': -5.206, 'mode': 1, 'speechiness': 0.0381, 'acousticness': 0.382, 'instrumentalness': 0.000669, 'liveness': 0.114, 'valence': 0.802, 'tempo': 106.999, 'type': 'audio_features', 'id': '0WtM2NBVQNNJLh6scP13H8', 'uri': 'spotify:track:0WtM2NBVQNNJLh6scP13H8', 'track_href': 'https://api.spotify.com/v1/tracks/0WtM2NBVQNNJLh6scP13H8', 'analysis_url': 'https://api.spotify.com/v1/audio-analysis/0WtM2NBVQNNJLh6scP13H8', 'duration_ms': 239318, 'time_signature': 4}\n",
      "\n",
      "STAY (with Justin Bieber)\n",
      "spotify:track:5PjdY0CKGZdEuoNab3yDmX\n",
      "{'danceability': 0.591, 'energy': 0.764, 'key': 1, 'loudness': -5.484, 'mode': 1, 'speechiness': 0.0483, 'acousticness': 0.0383, 'instrumentalness': 0, 'liveness': 0.103, 'valence': 0.478, 'tempo': 169.928, 'type': 'audio_features', 'id': '5PjdY0CKGZdEuoNab3yDmX', 'uri': 'spotify:track:5PjdY0CKGZdEuoNab3yDmX', 'track_href': 'https://api.spotify.com/v1/tracks/5PjdY0CKGZdEuoNab3yDmX', 'analysis_url': 'https://api.spotify.com/v1/audio-analysis/5PjdY0CKGZdEuoNab3yDmX', 'duration_ms': 141806, 'time_signature': 4}\n",
      "\n",
      "Bones\n",
      "spotify:track:54ipXppHLA8U4yqpOFTUhr\n",
      "{'danceability': 0.772, 'energy': 0.75, 'key': 5, 'loudness': -3.67, 'mode': 0, 'speechiness': 0.0455, 'acousticness': 0.0201, 'instrumentalness': 0, 'liveness': 0.074, 'valence': 0.587, 'tempo': 114.061, 'type': 'audio_features', 'id': '54ipXppHLA8U4yqpOFTUhr', 'uri': 'spotify:track:54ipXppHLA8U4yqpOFTUhr', 'track_href': 'https://api.spotify.com/v1/tracks/54ipXppHLA8U4yqpOFTUhr', 'analysis_url': 'https://api.spotify.com/v1/audio-analysis/54ipXppHLA8U4yqpOFTUhr', 'duration_ms': 165265, 'time_signature': 4}\n",
      "\n",
      "I Wanna Be Yours\n",
      "spotify:track:5XeFesFbtLpXzIVDNQP22n\n",
      "{'danceability': 0.464, 'energy': 0.417, 'key': 0, 'loudness': -9.345, 'mode': 0, 'speechiness': 0.0256, 'acousticness': 0.136, 'instrumentalness': 0.022, 'liveness': 0.0974, 'valence': 0.479, 'tempo': 67.528, 'type': 'audio_features', 'id': '5XeFesFbtLpXzIVDNQP22n', 'uri': 'spotify:track:5XeFesFbtLpXzIVDNQP22n', 'track_href': 'https://api.spotify.com/v1/tracks/5XeFesFbtLpXzIVDNQP22n', 'analysis_url': 'https://api.spotify.com/v1/audio-analysis/5XeFesFbtLpXzIVDNQP22n', 'duration_ms': 183956, 'time_signature': 4}\n",
      "\n",
      "Left and Right (Feat. Jung Kook of BTS)\n",
      "spotify:track:5Odq8ohlgIbQKMZivbWkEo\n"
     ]
    },
    {
     "name": "stdout",
     "output_type": "stream",
     "text": [
      "{'danceability': 0.881, 'energy': 0.592, 'key': 2, 'loudness': -4.898, 'mode': 1, 'speechiness': 0.0324, 'acousticness': 0.619, 'instrumentalness': 1.32e-05, 'liveness': 0.0901, 'valence': 0.719, 'tempo': 101.058, 'type': 'audio_features', 'id': '5Odq8ohlgIbQKMZivbWkEo', 'uri': 'spotify:track:5Odq8ohlgIbQKMZivbWkEo', 'track_href': 'https://api.spotify.com/v1/tracks/5Odq8ohlgIbQKMZivbWkEo', 'analysis_url': 'https://api.spotify.com/v1/audio-analysis/5Odq8ohlgIbQKMZivbWkEo', 'duration_ms': 154487, 'time_signature': 4}\n",
      "\n",
      "STAR WALKIN' (League of Legends Worlds Anthem)\n",
      "spotify:track:38T0tPVZHcPZyhtOcCP7pF\n",
      "{'danceability': 0.637, 'energy': 0.715, 'key': 2, 'loudness': -4.971, 'mode': 0, 'speechiness': 0.0455, 'acousticness': 0.148, 'instrumentalness': 0, 'liveness': 0.0892, 'valence': 0.308, 'tempo': 141.872, 'type': 'audio_features', 'id': '38T0tPVZHcPZyhtOcCP7pF', 'uri': 'spotify:track:38T0tPVZHcPZyhtOcCP7pF', 'track_href': 'https://api.spotify.com/v1/tracks/38T0tPVZHcPZyhtOcCP7pF', 'analysis_url': 'https://api.spotify.com/v1/audio-analysis/38T0tPVZHcPZyhtOcCP7pF', 'duration_ms': 210576, 'time_signature': 4}\n",
      "\n",
      "PROVENZA\n",
      "spotify:track:7dSZ6zGTQx66c2GF91xCrb\n",
      "{'danceability': 0.87, 'energy': 0.516, 'key': 1, 'loudness': -8.006, 'mode': 1, 'speechiness': 0.0541, 'acousticness': 0.656, 'instrumentalness': 0.00823, 'liveness': 0.11, 'valence': 0.53, 'tempo': 111.005, 'type': 'audio_features', 'id': '7dSZ6zGTQx66c2GF91xCrb', 'uri': 'spotify:track:7dSZ6zGTQx66c2GF91xCrb', 'track_href': 'https://api.spotify.com/v1/tracks/7dSZ6zGTQx66c2GF91xCrb', 'analysis_url': 'https://api.spotify.com/v1/audio-analysis/7dSZ6zGTQx66c2GF91xCrb', 'duration_ms': 210200, 'time_signature': 4}\n",
      "\n",
      "Late Night Talking\n",
      "spotify:track:1qEmFfgcLObUfQm0j1W2CK\n",
      "{'danceability': 0.714, 'energy': 0.728, 'key': 10, 'loudness': -4.595, 'mode': 1, 'speechiness': 0.0468, 'acousticness': 0.298, 'instrumentalness': 0, 'liveness': 0.106, 'valence': 0.901, 'tempo': 114.996, 'type': 'audio_features', 'id': '1qEmFfgcLObUfQm0j1W2CK', 'uri': 'spotify:track:1qEmFfgcLObUfQm0j1W2CK', 'track_href': 'https://api.spotify.com/v1/tracks/1qEmFfgcLObUfQm0j1W2CK', 'analysis_url': 'https://api.spotify.com/v1/audio-analysis/1qEmFfgcLObUfQm0j1W2CK', 'duration_ms': 177955, 'time_signature': 4}\n",
      "\n",
      "Doja\n",
      "spotify:track:3LtpKP5abr2qqjunvjlX5i\n",
      "{'danceability': 0.911, 'energy': 0.573, 'key': 6, 'loudness': -7.43, 'mode': 1, 'speechiness': 0.288, 'acousticness': 0.38, 'instrumentalness': 0, 'liveness': 0.403, 'valence': 0.972, 'tempo': 140.04, 'type': 'audio_features', 'id': '3LtpKP5abr2qqjunvjlX5i', 'uri': 'spotify:track:3LtpKP5abr2qqjunvjlX5i', 'track_href': 'https://api.spotify.com/v1/tracks/3LtpKP5abr2qqjunvjlX5i', 'analysis_url': 'https://api.spotify.com/v1/audio-analysis/3LtpKP5abr2qqjunvjlX5i', 'duration_ms': 97393, 'time_signature': 4}\n",
      "\n",
      "Running Up That Hill (A Deal With God)\n",
      "spotify:track:75FEaRjZTKLhTrFGsfMUXR\n",
      "{'danceability': 0.629, 'energy': 0.547, 'key': 10, 'loudness': -13.123, 'mode': 0, 'speechiness': 0.055, 'acousticness': 0.72, 'instrumentalness': 0.00314, 'liveness': 0.0604, 'valence': 0.197, 'tempo': 108.375, 'type': 'audio_features', 'id': '75FEaRjZTKLhTrFGsfMUXR', 'uri': 'spotify:track:75FEaRjZTKLhTrFGsfMUXR', 'track_href': 'https://api.spotify.com/v1/tracks/75FEaRjZTKLhTrFGsfMUXR', 'analysis_url': 'https://api.spotify.com/v1/audio-analysis/75FEaRjZTKLhTrFGsfMUXR', 'duration_ms': 298933, 'time_signature': 4}\n",
      "\n",
      "LOKERA\n",
      "spotify:track:79HZAZNnOE97rb2hnI0XQr\n",
      "{'danceability': 0.834, 'energy': 0.828, 'key': 11, 'loudness': -2.657, 'mode': 0, 'speechiness': 0.0452, 'acousticness': 0.21, 'instrumentalness': 5.91e-06, 'liveness': 0.103, 'valence': 0.58, 'tempo': 102.019, 'type': 'audio_features', 'id': '79HZAZNnOE97rb2hnI0XQr', 'uri': 'spotify:track:79HZAZNnOE97rb2hnI0XQr', 'track_href': 'https://api.spotify.com/v1/tracks/79HZAZNnOE97rb2hnI0XQr', 'analysis_url': 'https://api.spotify.com/v1/audio-analysis/79HZAZNnOE97rb2hnI0XQr', 'duration_ms': 195294, 'time_signature': 4}\n",
      "\n",
      "Feliz Cumpleaños Ferxxo\n",
      "spotify:track:2CeKVsFFXG4QzA415QygGb\n",
      "{'danceability': 0.865, 'energy': 0.573, 'key': 5, 'loudness': -5.501, 'mode': 1, 'speechiness': 0.0678, 'acousticness': 0.0863, 'instrumentalness': 0, 'liveness': 0.305, 'valence': 0.563, 'tempo': 94.999, 'type': 'audio_features', 'id': '2CeKVsFFXG4QzA415QygGb', 'uri': 'spotify:track:2CeKVsFFXG4QzA415QygGb', 'track_href': 'https://api.spotify.com/v1/tracks/2CeKVsFFXG4QzA415QygGb', 'analysis_url': 'https://api.spotify.com/v1/audio-analysis/2CeKVsFFXG4QzA415QygGb', 'duration_ms': 155960, 'time_signature': 4}\n",
      "\n",
      "Sunroof\n",
      "spotify:track:4h4QlmocP3IuwYEj2j14p8\n",
      "{'danceability': 0.768, 'energy': 0.714, 'key': 10, 'loudness': -5.11, 'mode': 1, 'speechiness': 0.0401, 'acousticness': 0.352, 'instrumentalness': 0, 'liveness': 0.15, 'valence': 0.842, 'tempo': 131.443, 'type': 'audio_features', 'id': '4h4QlmocP3IuwYEj2j14p8', 'uri': 'spotify:track:4h4QlmocP3IuwYEj2j14p8', 'track_href': 'https://api.spotify.com/v1/tracks/4h4QlmocP3IuwYEj2j14p8', 'analysis_url': 'https://api.spotify.com/v1/audio-analysis/4h4QlmocP3IuwYEj2j14p8', 'duration_ms': 163026, 'time_signature': 4}\n",
      "\n",
      "I Like You (A Happier Song) (with Doja Cat)\n",
      "spotify:track:0O6u0VJ46W86TxN9wgyqDj\n",
      "{'danceability': 0.733, 'energy': 0.67, 'key': 5, 'loudness': -6.009, 'mode': 1, 'speechiness': 0.0751, 'acousticness': 0.121, 'instrumentalness': 0, 'liveness': 0.121, 'valence': 0.472, 'tempo': 100.964, 'type': 'audio_features', 'id': '0O6u0VJ46W86TxN9wgyqDj', 'uri': 'spotify:track:0O6u0VJ46W86TxN9wgyqDj', 'track_href': 'https://api.spotify.com/v1/tracks/0O6u0VJ46W86TxN9wgyqDj', 'analysis_url': 'https://api.spotify.com/v1/audio-analysis/0O6u0VJ46W86TxN9wgyqDj', 'duration_ms': 192841, 'time_signature': 4}\n",
      "\n",
      "Cold Heart - PNAU Remix\n",
      "spotify:track:6JIC3hbC28JZKZ8AlAqX8h\n",
      "{'danceability': 0.795, 'energy': 0.8, 'key': 1, 'loudness': -6.32, 'mode': 1, 'speechiness': 0.0309, 'acousticness': 0.0354, 'instrumentalness': 7.25e-05, 'liveness': 0.0915, 'valence': 0.934, 'tempo': 116.032, 'type': 'audio_features', 'id': '6JIC3hbC28JZKZ8AlAqX8h', 'uri': 'spotify:track:6JIC3hbC28JZKZ8AlAqX8h', 'track_href': 'https://api.spotify.com/v1/tracks/6JIC3hbC28JZKZ8AlAqX8h', 'analysis_url': 'https://api.spotify.com/v1/audio-analysis/6JIC3hbC28JZKZ8AlAqX8h', 'duration_ms': 202735, 'time_signature': 4}\n",
      "\n",
      "505\n",
      "spotify:track:58ge6dfP91o9oXMzq3XkIS\n",
      "{'danceability': 0.52, 'energy': 0.852, 'key': 0, 'loudness': -5.866, 'mode': 1, 'speechiness': 0.0543, 'acousticness': 0.00237, 'instrumentalness': 5.79e-05, 'liveness': 0.0733, 'valence': 0.234, 'tempo': 140.267, 'type': 'audio_features', 'id': '58ge6dfP91o9oXMzq3XkIS', 'uri': 'spotify:track:58ge6dfP91o9oXMzq3XkIS', 'track_href': 'https://api.spotify.com/v1/tracks/58ge6dfP91o9oXMzq3XkIS', 'analysis_url': 'https://api.spotify.com/v1/audio-analysis/58ge6dfP91o9oXMzq3XkIS', 'duration_ms': 253587, 'time_signature': 4}\n",
      "\n",
      "Blinding Lights\n",
      "spotify:track:0VjIjW4GlUZAMYd2vXMi3b\n",
      "{'danceability': 0.514, 'energy': 0.73, 'key': 1, 'loudness': -5.934, 'mode': 1, 'speechiness': 0.0598, 'acousticness': 0.00146, 'instrumentalness': 9.54e-05, 'liveness': 0.0897, 'valence': 0.334, 'tempo': 171.005, 'type': 'audio_features', 'id': '0VjIjW4GlUZAMYd2vXMi3b', 'uri': 'spotify:track:0VjIjW4GlUZAMYd2vXMi3b', 'track_href': 'https://api.spotify.com/v1/tracks/0VjIjW4GlUZAMYd2vXMi3b', 'analysis_url': 'https://api.spotify.com/v1/audio-analysis/0VjIjW4GlUZAMYd2vXMi3b', 'duration_ms': 200040, 'time_signature': 4}\n",
      "\n",
      "Vista Al Mar\n",
      "spotify:track:7iwJOi3hlMqZt6pj1sQOBj\n",
      "{'danceability': 0.759, 'energy': 0.561, 'key': 0, 'loudness': -5.643, 'mode': 0, 'speechiness': 0.131, 'acousticness': 0.803, 'instrumentalness': 0.121, 'liveness': 0.101, 'valence': 0.491, 'tempo': 104.915, 'type': 'audio_features', 'id': '7iwJOi3hlMqZt6pj1sQOBj', 'uri': 'spotify:track:7iwJOi3hlMqZt6pj1sQOBj', 'track_href': 'https://api.spotify.com/v1/tracks/7iwJOi3hlMqZt6pj1sQOBj', 'analysis_url': 'https://api.spotify.com/v1/audio-analysis/7iwJOi3hlMqZt6pj1sQOBj', 'duration_ms': 180673, 'time_signature': 4}\n",
      "\n",
      "About Damn Time\n",
      "spotify:track:6HMtHNpW6YPi1hrw9tgF8P\n",
      "{'danceability': 0.836, 'energy': 0.743, 'key': 10, 'loudness': -6.305, 'mode': 0, 'speechiness': 0.0653, 'acousticness': 0.0974, 'instrumentalness': 0, 'liveness': 0.335, 'valence': 0.723, 'tempo': 108.965, 'type': 'audio_features', 'id': '6HMtHNpW6YPi1hrw9tgF8P', 'uri': 'spotify:track:6HMtHNpW6YPi1hrw9tgF8P', 'track_href': 'https://api.spotify.com/v1/tracks/6HMtHNpW6YPi1hrw9tgF8P', 'analysis_url': 'https://api.spotify.com/v1/audio-analysis/6HMtHNpW6YPi1hrw9tgF8P', 'duration_ms': 191938, 'time_signature': 4}\n",
      "\n",
      "BABY OTAKU\n",
      "spotify:track:0kTMK4gNFfLXaTb62w1UaJ\n",
      "{'danceability': 0.835, 'energy': 0.747, 'key': 9, 'loudness': -4.65, 'mode': 1, 'speechiness': 0.083, 'acousticness': 0.0492, 'instrumentalness': 0, 'liveness': 0.055, 'valence': 0.432, 'tempo': 102.003, 'type': 'audio_features', 'id': '0kTMK4gNFfLXaTb62w1UaJ', 'uri': 'spotify:track:0kTMK4gNFfLXaTb62w1UaJ', 'track_href': 'https://api.spotify.com/v1/tracks/0kTMK4gNFfLXaTb62w1UaJ', 'analysis_url': 'https://api.spotify.com/v1/audio-analysis/0kTMK4gNFfLXaTb62w1UaJ', 'duration_ms': 176471, 'time_signature': 4}\n",
      "\n",
      "No Se Va - En Vivo\n",
      "spotify:track:5JhUm1v5AbI5Yu6jLKCPRO\n"
     ]
    },
    {
     "name": "stdout",
     "output_type": "stream",
     "text": [
      "{'danceability': 0.594, 'energy': 0.527, 'key': 0, 'loudness': -9.335, 'mode': 1, 'speechiness': 0.0335, 'acousticness': 0.121, 'instrumentalness': 0, 'liveness': 0.234, 'valence': 0.692, 'tempo': 172.712, 'type': 'audio_features', 'id': '5JhUm1v5AbI5Yu6jLKCPRO', 'uri': 'spotify:track:5JhUm1v5AbI5Yu6jLKCPRO', 'track_href': 'https://api.spotify.com/v1/tracks/5JhUm1v5AbI5Yu6jLKCPRO', 'analysis_url': 'https://api.spotify.com/v1/audio-analysis/5JhUm1v5AbI5Yu6jLKCPRO', 'duration_ms': 194019, 'time_signature': 4}\n",
      "\n",
      "Dandelions\n",
      "spotify:track:2eAvDnpXP5W0cVtiI0PUxV\n",
      "{'danceability': 0.609, 'energy': 0.692, 'key': 1, 'loudness': -2.958, 'mode': 1, 'speechiness': 0.0259, 'acousticness': 0.0157, 'instrumentalness': 0, 'liveness': 0.0864, 'valence': 0.454, 'tempo': 116.959, 'type': 'audio_features', 'id': '2eAvDnpXP5W0cVtiI0PUxV', 'uri': 'spotify:track:2eAvDnpXP5W0cVtiI0PUxV', 'track_href': 'https://api.spotify.com/v1/tracks/2eAvDnpXP5W0cVtiI0PUxV', 'analysis_url': 'https://api.spotify.com/v1/audio-analysis/2eAvDnpXP5W0cVtiI0PUxV', 'duration_ms': 233720, 'time_signature': 3}\n",
      "\n",
      "I Was Never There\n",
      "spotify:track:1cKHdTo9u0ZymJdPGSh6nq\n",
      "{'danceability': 0.323, 'energy': 0.737, 'key': 10, 'loudness': -4.008, 'mode': 1, 'speechiness': 0.0338, 'acousticness': 0.142, 'instrumentalness': 0.000162, 'liveness': 0.163, 'valence': 0.155, 'tempo': 113.26, 'type': 'audio_features', 'id': '1cKHdTo9u0ZymJdPGSh6nq', 'uri': 'spotify:track:1cKHdTo9u0ZymJdPGSh6nq', 'track_href': 'https://api.spotify.com/v1/tracks/1cKHdTo9u0ZymJdPGSh6nq', 'analysis_url': 'https://api.spotify.com/v1/audio-analysis/1cKHdTo9u0ZymJdPGSh6nq', 'duration_ms': 241067, 'time_signature': 4}\n",
      "\n"
     ]
    }
   ],
   "source": [
    "for track in sp.playlist_tracks(playlist_URI)['items']:\n",
    "    track_name = track[\"track\"][\"name\"]\n",
    "    print(track_name)\n",
    "    track_uri = track[\"track\"][\"uri\"]\n",
    "    print(track_uri)\n",
    "    print(sp.audio_features(track_uri)[0])\n",
    "    print()"
   ]
  },
  {
   "cell_type": "code",
   "execution_count": 47,
   "id": "e88e301d",
   "metadata": {},
   "outputs": [
    {
     "name": "stdout",
     "output_type": "stream",
     "text": [
      "{'danceability': 0.714, 'energy': 0.472, 'key': 2, 'loudness': -7.375, 'mode': 1, 'speechiness': 0.0864, 'acousticness': 0.013, 'instrumentalness': 4.51e-06, 'liveness': 0.266, 'valence': 0.238, 'tempo': 131.121, 'type': 'audio_features', 'id': '3nqQXoyQOWXiESFLlDF1hG', 'uri': 'spotify:track:3nqQXoyQOWXiESFLlDF1hG', 'track_href': 'https://api.spotify.com/v1/tracks/3nqQXoyQOWXiESFLlDF1hG', 'analysis_url': 'https://api.spotify.com/v1/audio-analysis/3nqQXoyQOWXiESFLlDF1hG', 'duration_ms': 156943, 'time_signature': 4}\n"
     ]
    }
   ],
   "source": [
    "search = sp.search(q='Unholy', type='track', limit=4)\n",
    "search_uri = search['tracks']['items'][0]['uri']\n",
    "search_features = sp.audio_features(search_uri)[0]\n",
    "print(search_features)"
   ]
  },
  {
   "cell_type": "code",
   "execution_count": null,
   "id": "3a990833",
   "metadata": {},
   "outputs": [],
   "source": []
  },
  {
   "cell_type": "code",
   "execution_count": null,
   "id": "6652c582",
   "metadata": {},
   "outputs": [],
   "source": []
  },
  {
   "cell_type": "code",
   "execution_count": 75,
   "id": "f97d609f",
   "metadata": {},
   "outputs": [
    {
     "name": "stdout",
     "output_type": "stream",
     "text": [
      "^C\n",
      "\n",
      "Note: you may need to restart the kernel to use updated packages.\n"
     ]
    }
   ],
   "source": [
    "conda install -c conda-forge mutagen"
   ]
  },
  {
   "cell_type": "code",
   "execution_count": null,
   "id": "c9f58ed1",
   "metadata": {
    "scrolled": true
   },
   "outputs": [],
   "source": []
  },
  {
   "cell_type": "code",
   "execution_count": 1,
   "id": "e2a5dc21",
   "metadata": {},
   "outputs": [],
   "source": [
    "#conda install -c conda-forge librosa"
   ]
  },
  {
   "cell_type": "code",
   "execution_count": 91,
   "id": "4347ee34",
   "metadata": {},
   "outputs": [
    {
     "name": "stderr",
     "output_type": "stream",
     "text": [
      "C:\\Users\\juno\\anaconda3\\lib\\site-packages\\librosa\\util\\decorators.py:88: UserWarning: PySoundFile failed. Trying audioread instead.\n",
      "  return f(*args, **kwargs)\n"
     ]
    }
   ],
   "source": [
    "import librosa\n",
    "\n",
    "file = 'money.mp4'\n",
    "y, sr = librosa.load(file)"
   ]
  },
  {
   "cell_type": "code",
   "execution_count": 96,
   "id": "4356473f",
   "metadata": {},
   "outputs": [
    {
     "name": "stdout",
     "output_type": "stream",
     "text": [
      "129.19921875\n"
     ]
    },
    {
     "data": {
      "text/plain": [
       "array([   12,    32,    50,    68,    87,   106,   126,   145,   164,\n",
       "         184,   204,   224,   244,   267,   290,   309,   332,   352,\n",
       "         377,   397,   421,   443,   463,   485,   508,   530,   550,\n",
       "         573,   595,   616,   638,   658,   681,   704,   725,   747,\n",
       "         769,   790,   811,   832,   855,   876,   898,   921,   943,\n",
       "         965,   986,  1009,  1031,  1052,  1074,  1095,  1116,  1139,\n",
       "        1162,  1184,  1206,  1226,  1248,  1270,  1291,  1314,  1336,\n",
       "        1357,  1378,  1399,  1420,  1440,  1462,  1485,  1507,  1527,\n",
       "        1549,  1570,  1591,  1613,  1634,  1656,  1676,  1696,  1719,\n",
       "        1738,  1762,  1784,  1805,  1826,  1846,  1867,  1889,  1911,\n",
       "        1933,  1954,  1974,  1995,  2015,  2036,  2056,  2079,  2100,\n",
       "        2120,  2141,  2161,  2181,  2204,  2225,  2246,  2267,  2287,\n",
       "        2309,  2330,  2352,  2373,  2394,  2414,  2435,  2455,  2476,\n",
       "        2497,  2518,  2539,  2561,  2581,  2602,  2622,  2643,  2663,\n",
       "        2685,  2706,  2726,  2747,  2768,  2789,  2809,  2830,  2850,\n",
       "        2871,  2891,  2912,  2934,  2955,  2976,  2996,  3017,  3038,\n",
       "        3059,  3080,  3101,  3122,  3142,  3162,  3183,  3204,  3224,\n",
       "        3246,  3267,  3287,  3307,  3327,  3348,  3369,  3390,  3410,\n",
       "        3432,  3452,  3473,  3494,  3515,  3536,  3557,  3577,  3598,\n",
       "        3618,  3639,  3660,  3682,  3703,  3723,  3743,  3764,  3784,\n",
       "        3804,  3825,  3848,  3867,  3888,  3908,  3927,  3949,  3971,\n",
       "        3992,  4013,  4032,  4053,  4072,  4095,  4117,  4137,  4157,\n",
       "        4177,  4198,  4219,  4239,  4261,  4282,  4302,  4322,  4342,\n",
       "        4362,  4383,  4404,  4425,  4445,  4465,  4486,  4506,  4528,\n",
       "        4549,  4569,  4589,  4609,  4629,  4649,  4668,  4691,  4712,\n",
       "        4732,  4753,  4772,  4792,  4811,  4833,  4854,  4875,  4896,\n",
       "        4916,  4937,  4957,  4977,  4998,  5018,  5039,  5059,  5078,\n",
       "        5099,  5120,  5142,  5162,  5183,  5203,  5223,  5244,  5265,\n",
       "        5286,  5307,  5328,  5348,  5368,  5388,  5409,  5431,  5452,\n",
       "        5472,  5492,  5513,  5534,  5555,  5575,  5596,  5616,  5636,\n",
       "        5657,  5677,  5698,  5719,  5740,  5760,  5779,  5800,  5821,\n",
       "        5841,  5863,  5883,  5903,  5923,  5942,  5963,  5984,  6005,\n",
       "        6026,  6047,  6068,  6089,  6109,  6130,  6151,  6171,  6190,\n",
       "        6211,  6232,  6251,  6272,  6293,  6313,  6334,  6354,  6374,\n",
       "        6396,  6416,  6436,  6457,  6478,  6498,  6518,  6539,  6559,\n",
       "        6580,  6600,  6621,  6641,  6662,  6682,  6702,  6723,  6743,\n",
       "        6763,  6784,  6805,  6826,  6846,  6867,  6887,  6908,  6928,\n",
       "        6948,  6969,  6989,  7011,  7032,  7052,  7074,  7095,  7115,\n",
       "        7136,  7156,  7177,  7198,  7218,  7239,  7260,  7280,  7301,\n",
       "        7321,  7341,  7362,  7383,  7402,  7423,  7444,  7463,  7482,\n",
       "        7501,  7520,  7538,  7558,  7578,  7597,  7616,  7636,  7655,\n",
       "        7675,  7695,  7714,  7733,  7753,  7773,  7793,  7812,  7831,\n",
       "        7851,  7870,  7889,  7908,  7928,  7947,  7965,  7985,  8004,\n",
       "        8023,  8043,  8062,  8082,  8101,  8120,  8140,  8159,  8178,\n",
       "        8196,  8215,  8234,  8253,  8273,  8292,  8311,  8330,  8350,\n",
       "        8369,  8388,  8408,  8427,  8445,  8464,  8483,  8502,  8521,\n",
       "        8540,  8559,  8578,  8597,  8616,  8635,  8654,  8673,  8693,\n",
       "        8712,  8731,  8750,  8769,  8789,  8808,  8827,  8846,  8865,\n",
       "        8884,  8903,  8923,  8942,  8961,  8979,  8998,  9016,  9035,\n",
       "        9055,  9074,  9093,  9113,  9133,  9153,  9172,  9192,  9212,\n",
       "        9232,  9252,  9272,  9292,  9312,  9332,  9352,  9373,  9393,\n",
       "        9413,  9433,  9451,  9472,  9491,  9513,  9533,  9552,  9572,\n",
       "        9593,  9612,  9632,  9652,  9672,  9691,  9711,  9732,  9752,\n",
       "        9772,  9792,  9812,  9832,  9853,  9874,  9893,  9914,  9933,\n",
       "        9954,  9975,  9995, 10015, 10034, 10054, 10075, 10095, 10115,\n",
       "       10134, 10154, 10174, 10195, 10215, 10235, 10255, 10275, 10296,\n",
       "       10316, 10335, 10355, 10375, 10396, 10417, 10437, 10456, 10476,\n",
       "       10496, 10517, 10537, 10557, 10577, 10597, 10617, 10637, 10657,\n",
       "       10678, 10699, 10718, 10738, 10758, 10779, 10799, 10819, 10839,\n",
       "       10859, 10879, 10899, 10918, 10939, 10959, 10979, 10998, 11017,\n",
       "       11038, 11058, 11077, 11097, 11116, 11136, 11155, 11176, 11195,\n",
       "       11215, 11235, 11255, 11275, 11294, 11314, 11334, 11354, 11374,\n",
       "       11393, 11412, 11432, 11451, 11470, 11491, 11510, 11530, 11549,\n",
       "       11569, 11588, 11608, 11627, 11647, 11666, 11687, 11706, 11726,\n",
       "       11745, 11764, 11784, 11804, 11823, 11842, 11862])"
      ]
     },
     "execution_count": 96,
     "metadata": {},
     "output_type": "execute_result"
    }
   ],
   "source": [
    "tempo, beat_frames = librosa.beat.beat_track(y=y, sr=sr)\n",
    "print(tempo) #129.199\n",
    "             #according to songbpm.com, song has 126 BPM, pretty close\n",
    "#beat frames shows the timesteps where there's a beat. does this correspond to spikes in EEG?"
   ]
  },
  {
   "cell_type": "code",
   "execution_count": null,
   "id": "01b48bfb",
   "metadata": {},
   "outputs": [],
   "source": [
    "\n",
    "\n"
   ]
  }
 ],
 "metadata": {
  "kernelspec": {
   "display_name": "Python 3 (ipykernel)",
   "language": "python",
   "name": "python3"
  },
  "language_info": {
   "codemirror_mode": {
    "name": "ipython",
    "version": 3
   },
   "file_extension": ".py",
   "mimetype": "text/x-python",
   "name": "python",
   "nbconvert_exporter": "python",
   "pygments_lexer": "ipython3",
   "version": "3.9.12"
  }
 },
 "nbformat": 4,
 "nbformat_minor": 5
}
