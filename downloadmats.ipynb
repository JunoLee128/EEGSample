{
 "cells": [
  {
   "cell_type": "code",
   "execution_count": 1,
   "id": "2921137f",
   "metadata": {},
   "outputs": [],
   "source": [
    "import urllib.request"
   ]
  },
  {
   "cell_type": "code",
   "execution_count": 5,
   "id": "550a89df",
   "metadata": {},
   "outputs": [
    {
     "data": {
      "text/plain": [
       "('behavioralRatings.mat', <http.client.HTTPMessage at 0x199b271ac70>)"
      ]
     },
     "execution_count": 5,
     "metadata": {},
     "output_type": "execute_result"
    }
   ],
   "source": [
    "urllib.request.urlretrieve('https://stacks.stanford.edu/file/druid:jn859kj8079/behavioralRatings.mat', 'behavioralRatings.mat')"
   ]
  },
  {
   "cell_type": "code",
   "execution_count": null,
   "id": "4a33419e",
   "metadata": {},
   "outputs": [],
   "source": [
    "for x in range(21,31):\n",
    "    urllib.request.urlretrieve(f'https://stacks.stanford.edu/file/druid:jn859kj8079/song{x}_Imputed.mat', f'song{x}_Imputed.mat')\n",
    "    #urllib.request.urlretrieve(\"http://www.example.com/songs/mp3.mp3\", \"mp3.mp3\")"
   ]
  },
  {
   "cell_type": "code",
   "execution_count": null,
   "id": "88ee4403",
   "metadata": {},
   "outputs": [],
   "source": []
  }
 ],
 "metadata": {
  "kernelspec": {
   "display_name": "Python 3 (ipykernel)",
   "language": "python",
   "name": "python3"
  },
  "language_info": {
   "codemirror_mode": {
    "name": "ipython",
    "version": 3
   },
   "file_extension": ".py",
   "mimetype": "text/x-python",
   "name": "python",
   "nbconvert_exporter": "python",
   "pygments_lexer": "ipython3",
   "version": "3.9.12"
  }
 },
 "nbformat": 4,
 "nbformat_minor": 5
}
