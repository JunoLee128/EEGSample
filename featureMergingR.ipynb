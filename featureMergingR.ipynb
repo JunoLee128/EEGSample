{
 "cells": [
  {
   "cell_type": "code",
   "execution_count": 2,
   "id": "94ee3f6e",
   "metadata": {},
   "outputs": [],
   "source": [
    "from sklearn.model_selection import train_test_split\n",
    "from sklearn.ensemble import *\n",
    "from sklearn import metrics\n",
    "from pymatreader import read_mat\n",
    "import numpy as np"
   ]
  },
  {
   "cell_type": "code",
   "execution_count": null,
   "id": "6f00c27e",
   "metadata": {},
   "outputs": [],
   "source": []
  },
  {
   "cell_type": "code",
   "execution_count": 7,
   "id": "aa75937f",
   "metadata": {},
   "outputs": [],
   "source": [
    "data = np.zeros(shape=(10,125,30000,20)) #song x chan x T x person\n",
    "for i in range(10): # channel x T x participant = 125 x 30,000 x 20\n",
    "    data[i] = read_mat('song{}_Imputed.mat'.format(i + 21))['data{}'.format(i + 21)][:,:30000,:]"
   ]
  },
  {
   "cell_type": "code",
   "execution_count": 8,
   "id": "d98c8170",
   "metadata": {},
   "outputs": [
    {
     "data": {
      "text/plain": [
       "(125, 30000, 20)"
      ]
     },
     "execution_count": 8,
     "metadata": {},
     "output_type": "execute_result"
    }
   ],
   "source": [
    "data[0].shape"
   ]
  },
  {
   "cell_type": "code",
   "execution_count": 9,
   "id": "f21f5f53",
   "metadata": {},
   "outputs": [],
   "source": [
    "data_chanavg = np.mean(data, axis=1) #shape = (10, 30K, 20)"
   ]
  },
  {
   "cell_type": "code",
   "execution_count": 10,
   "id": "f8937ba1",
   "metadata": {},
   "outputs": [],
   "source": [
    "ratings = read_mat('behavioralRatings.mat')['behavioralRatings'][:,:,1].T"
   ]
  },
  {
   "cell_type": "code",
   "execution_count": 11,
   "id": "8646bed1",
   "metadata": {},
   "outputs": [
    {
     "data": {
      "text/plain": [
       "(10, 20)"
      ]
     },
     "execution_count": 11,
     "metadata": {},
     "output_type": "execute_result"
    }
   ],
   "source": [
    "ratings.shape"
   ]
  },
  {
   "cell_type": "code",
   "execution_count": 13,
   "id": "8ff9f2d3",
   "metadata": {},
   "outputs": [
    {
     "name": "stdout",
     "output_type": "stream",
     "text": [
      "Collecting einops\n",
      "  Downloading einops-0.6.0-py3-none-any.whl (41 kB)\n",
      "Installing collected packages: einops\n",
      "Successfully installed einops-0.6.0\n",
      "Note: you may need to restart the kernel to use updated packages.\n"
     ]
    }
   ],
   "source": [
    "pip install einops"
   ]
  },
  {
   "cell_type": "code",
   "execution_count": 14,
   "id": "a94526bf",
   "metadata": {},
   "outputs": [],
   "source": [
    "from einops import rearrange"
   ]
  },
  {
   "cell_type": "code",
   "execution_count": 15,
   "id": "8fc01613",
   "metadata": {},
   "outputs": [],
   "source": [
    "dataflat = rearrange(data_chanavg, 's t u -> (s u) t') # song time person -> song+person time\n",
    "ratingsflat = ratings.reshape(200)"
   ]
  },
  {
   "cell_type": "code",
   "execution_count": 18,
   "id": "3de43fe5",
   "metadata": {},
   "outputs": [
    {
     "data": {
      "text/plain": [
       "(200, 30000)"
      ]
     },
     "execution_count": 18,
     "metadata": {},
     "output_type": "execute_result"
    }
   ],
   "source": [
    "dataflat.shape #person+song x time"
   ]
  },
  {
   "cell_type": "code",
   "execution_count": 20,
   "id": "55578a56",
   "metadata": {},
   "outputs": [
    {
     "name": "stdout",
     "output_type": "stream",
     "text": [
      "4.3432580000000005\n"
     ]
    }
   ],
   "source": [
    "clf = RandomForestRegressor()\n",
    "x_train, x_test, y_train, y_test = train_test_split(dataflat, ratingsflat, test_size = 0.70, random_state = 5)\n",
    "clf.fit(x_train, y_train)\n",
    "y_pred_test = clf.predict(x_test)\n",
    "diffs = []\n",
    "for i in range(50):\n",
    "    diffs.append( y_pred_test[i] - y_test[i] )\n",
    "print(np.mean([x**2 for x in diffs])) #could be worse.."
   ]
  },
  {
   "cell_type": "code",
   "execution_count": 21,
   "id": "cf433a6a",
   "metadata": {},
   "outputs": [],
   "source": [
    "import spotipy\n",
    "from spotipy.oauth2 import SpotifyClientCredentials\n",
    "\n",
    "client_credentials_manager = SpotifyClientCredentials(client_id='xxx',\n",
    "                                                     client_secret='xxx')\n",
    "sp = spotipy.Spotify(client_credentials_manager=client_credentials_manager)"
   ]
  },
  {
   "cell_type": "code",
   "execution_count": 33,
   "id": "9ead5644",
   "metadata": {},
   "outputs": [],
   "source": [
    "def getSpotifyFeatures(name):\n",
    "    search = sp.search(q=name, type='track', limit=1)\n",
    "    search_uri = search['tracks']['items'][0]['uri']\n",
    "    search_features = sp.audio_features(search_uri)[0]\n",
    "    search_songname = search['tracks']['items'][0]['name']\n",
    "    search_artist = search['tracks']['items'][0]['artists'][0]['name']\n",
    "    print(f'Found {search_songname} by {search_artist}')\n",
    "    ret = [search_features['danceability'], search_features['energy'], search_features['key'], search_features['loudness'], \\\n",
    "           search_features['mode'], search_features['speechiness'], search_features['acousticness'], \\\n",
    "           search_features['instrumentalness'], search_features['liveness'], search_features['valence'], \\\n",
    "           search_features['tempo']]\n",
    "    return ret"
   ]
  },
  {
   "cell_type": "code",
   "execution_count": 34,
   "id": "71d9391e",
   "metadata": {},
   "outputs": [
    {
     "name": "stdout",
     "output_type": "stream",
     "text": [
      "Found First Fires by Bonobo\n",
      "[0.606, 0.408, 8, -10.539, 1, 0.0362, 0.385, 0.29, 0.437, 0.211, 110.01]\n"
     ]
    },
    {
     "data": {
      "text/plain": [
       "[0.606, 0.408, 8, -10.539, 1, 0.0362, 0.385, 0.29, 0.437, 0.211, 110.01]"
      ]
     },
     "execution_count": 34,
     "metadata": {},
     "output_type": "execute_result"
    }
   ],
   "source": [
    "getSpotifyFeatures('First Fires')"
   ]
  },
  {
   "cell_type": "code",
   "execution_count": 37,
   "id": "86c7c5cd",
   "metadata": {},
   "outputs": [
    {
     "data": {
      "text/plain": [
       "(10, 20, 30000)"
      ]
     },
     "execution_count": 37,
     "metadata": {},
     "output_type": "execute_result"
    }
   ],
   "source": [
    "data_chanavgR = rearrange(data_chanavg, 's t u -> s u t')\n",
    "data_chanavgR.shape"
   ]
  },
  {
   "cell_type": "code",
   "execution_count": 47,
   "id": "b7111365",
   "metadata": {},
   "outputs": [
    {
     "name": "stdout",
     "output_type": "stream",
     "text": [
      "Found First Fires by Bonobo\n",
      "[0.606, 0.408, 8, -10.539, 1, 0.0362, 0.385, 0.29, 0.437, 0.211, 110.01]\n",
      "Found Oino by LA Priest\n",
      "[0.759, 0.723, 8, -6.615, 0, 0.0465, 0.263, 0.483, 0.0857, 0.964, 139.031]\n",
      "Found Tiptoes by Daedelus\n",
      "[0.444, 0.821, 5, -7.467, 0, 0.0501, 0.115, 0.0443, 0.109, 0.162, 148.003]\n",
      "Found Careless Love by Croquet Club\n",
      "[0.637, 0.259, 9, -14.924, 0, 0.0597, 0.984, 0.679, 0.0917, 0.597, 82.495]\n",
      "Found Lebanese Blonde by Thievery Corporation\n",
      "[0.808, 0.837, 9, -6.583, 0, 0.0459, 0.238, 0.862, 0.0578, 0.654, 92.002]\n",
      "Found Canopée by Polo & Pan\n",
      "[0.704, 0.692, 5, -6.558, 0, 0.0304, 0.0942, 0.0109, 0.0922, 0.369, 96.005]\n",
      "Found Doing Yoga by Kazy Lambist\n",
      "[0.732, 0.76, 4, -6.82, 0, 0.0922, 0.214, 0.00112, 0.389, 0.318, 108.993]\n",
      "Found Until the Sun Needs to Rise by RÜFÜS DU SOL\n",
      "[0.726, 0.691, 8, -8.033, 1, 0.0337, 0.011, 0.294, 0.0916, 0.118, 119.996]\n",
      "Found Silent Shout by The Knife\n",
      "[0.599, 0.709, 2, -10.565, 1, 0.0396, 0.0983, 0.911, 0.119, 0.387, 128.561]\n",
      "Found The Last Thing You Should Do by David Bowie\n",
      "[0.482, 0.998, 9, -4.631, 0, 0.135, 0.000651, 0.685, 0.0431, 0.373, 150.019]\n"
     ]
    }
   ],
   "source": [
    "songs = ['First Fires', 'Oino', 'Tiptoes Artist: Daedalus', 'Careless Love / Croquet Club', 'Lebanese Blonde', 'Canopee', 'Doing Yoga', \\\n",
    "         'Until the Sun Needs to Rise', 'Silent Shout', 'The Last Thing You Should Do']\n",
    "feats = [getSpotifyFeatures(song) for song in songs] #10 x 11"
   ]
  },
  {
   "cell_type": "code",
   "execution_count": 54,
   "id": "717370bd",
   "metadata": {},
   "outputs": [],
   "source": [
    "dataWFeats = np.zeros((10,20,30011))\n",
    "for i, song in enumerate(songs):\n",
    "    #data_chanavg[i]: 30,000(time) x 20(ppl)\n",
    "    for j in range(20):\n",
    "        #print(data_chanavgR[i][j])\n",
    "        #data_chanavgR[i][j].append(feats[i])\n",
    "        dataWFeats[i][j] = np.append(data_chanavgR[i][j], feats[i])"
   ]
  },
  {
   "cell_type": "code",
   "execution_count": 55,
   "id": "e9052209",
   "metadata": {},
   "outputs": [
    {
     "data": {
      "text/plain": [
       "(10, 20, 30011)"
      ]
     },
     "execution_count": 55,
     "metadata": {},
     "output_type": "execute_result"
    }
   ],
   "source": [
    "dataWFeats.shape"
   ]
  },
  {
   "cell_type": "code",
   "execution_count": 58,
   "id": "41108550",
   "metadata": {},
   "outputs": [
    {
     "data": {
      "text/plain": [
       "(200, 30011)"
      ]
     },
     "execution_count": 58,
     "metadata": {},
     "output_type": "execute_result"
    }
   ],
   "source": [
    "dataWFeatsFlat = rearrange(dataWFeats, 's t u -> (s t) u') #song person time -> song+person time\n",
    "dataWFeatsFlat.shape"
   ]
  },
  {
   "cell_type": "code",
   "execution_count": 63,
   "id": "a3b64ab5",
   "metadata": {},
   "outputs": [
    {
     "name": "stdout",
     "output_type": "stream",
     "text": [
      "4.159658\n"
     ]
    }
   ],
   "source": [
    "clf = RandomForestRegressor()\n",
    "x_train, x_test, y_train, y_test = train_test_split(dataWFeatsFlat, ratingsflat, test_size = 0.70, random_state = 5)\n",
    "clf.fit(x_train, y_train)\n",
    "y_pred_test = clf.predict(x_test)\n",
    "diffs = []\n",
    "for i in range(50):\n",
    "    diffs.append( y_pred_test[i] - y_test[i] )\n",
    "print(np.mean([x**2 for x in diffs])) #could be worse.."
   ]
  },
  {
   "cell_type": "code",
   "execution_count": 60,
   "id": "861512e0",
   "metadata": {},
   "outputs": [
    {
     "name": "stdout",
     "output_type": "stream",
     "text": [
      "4.2071583182409285\n"
     ]
    }
   ],
   "source": [
    "clf = AdaBoostRegressor()\n",
    "clf.fit(x_train, y_train)\n",
    "y_pred_test = clf.predict(x_test)\n",
    "diffs = []\n",
    "for i in range(50):\n",
    "    diffs.append( y_pred_test[i] - y_test[i] )\n",
    "print(np.mean([x**2 for x in diffs]))"
   ]
  },
  {
   "cell_type": "code",
   "execution_count": 64,
   "id": "c69a36e1",
   "metadata": {},
   "outputs": [
    {
     "name": "stdout",
     "output_type": "stream",
     "text": [
      "4.128000000000001\n"
     ]
    }
   ],
   "source": [
    "from sklearn import neighbors\n",
    "clf = neighbors.KNeighborsRegressor()\n",
    "clf.fit(x_train, y_train)\n",
    "y_pred_test = clf.predict(x_test)\n",
    "diffs = []\n",
    "for i in range(50):\n",
    "    diffs.append( y_pred_test[i] - y_test[i] )\n",
    "print(np.mean([x**2 for x in diffs]))"
   ]
  },
  {
   "cell_type": "code",
   "execution_count": null,
   "id": "80e577ca",
   "metadata": {},
   "outputs": [],
   "source": []
  }
 ],
 "metadata": {
  "kernelspec": {
   "display_name": "Python 3 (ipykernel)",
   "language": "python",
   "name": "python3"
  },
  "language_info": {
   "codemirror_mode": {
    "name": "ipython",
    "version": 3
   },
   "file_extension": ".py",
   "mimetype": "text/x-python",
   "name": "python",
   "nbconvert_exporter": "python",
   "pygments_lexer": "ipython3",
   "version": "3.9.12"
  }
 },
 "nbformat": 4,
 "nbformat_minor": 5
}
